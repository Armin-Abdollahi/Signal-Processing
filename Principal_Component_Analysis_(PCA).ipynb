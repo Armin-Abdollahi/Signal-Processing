{
  "nbformat": 4,
  "nbformat_minor": 0,
  "metadata": {
    "colab": {
      "provenance": [],
      "authorship_tag": "ABX9TyMZPplam8/9AFdxWx9TUHii",
      "include_colab_link": true
    },
    "kernelspec": {
      "name": "python3",
      "display_name": "Python 3"
    },
    "language_info": {
      "name": "python"
    }
  },
  "cells": [
    {
      "cell_type": "markdown",
      "metadata": {
        "id": "view-in-github",
        "colab_type": "text"
      },
      "source": [
        "<a href=\"https://colab.research.google.com/github/Armin-Abdollahi/Signal-Processing/blob/main/Principal_Component_Analysis_(PCA).ipynb\" target=\"_parent\"><img src=\"https://colab.research.google.com/assets/colab-badge.svg\" alt=\"Open In Colab\"/></a>"
      ]
    },
    {
      "cell_type": "markdown",
      "source": [
        "## Principal Component Analysis (PCA)\n",
        "\n",
        "Using the MNE library to apply Principal Component Analysis (PCA) on all .gdf files in a specified folder and then saves the modified raw data to a specified output folder"
      ],
      "metadata": {
        "id": "QFI1fDasWW8Q"
      }
    },
    {
      "cell_type": "code",
      "execution_count": 1,
      "metadata": {
        "colab": {
          "base_uri": "https://localhost:8080/"
        },
        "id": "u59wkJLsWRNt",
        "outputId": "44c2266d-94a6-4bed-e3de-d7a167943928"
      },
      "outputs": [
        {
          "output_type": "stream",
          "name": "stdout",
          "text": [
            "Mounted at /content/drive\n"
          ]
        }
      ],
      "source": [
        "from google.colab import drive\n",
        "drive.mount('/content/drive')"
      ]
    },
    {
      "cell_type": "code",
      "source": [
        "!pip install --upgrade mne"
      ],
      "metadata": {
        "colab": {
          "base_uri": "https://localhost:8080/"
        },
        "id": "-Hqr_dgoWZ3S",
        "outputId": "e90daa0f-29e9-4c0f-841e-d5a6f2aa857a"
      },
      "execution_count": 2,
      "outputs": [
        {
          "output_type": "stream",
          "name": "stdout",
          "text": [
            "Collecting mne\n",
            "  Downloading mne-1.8.0-py3-none-any.whl.metadata (21 kB)\n",
            "Requirement already satisfied: decorator in /usr/local/lib/python3.10/dist-packages (from mne) (4.4.2)\n",
            "Requirement already satisfied: jinja2 in /usr/local/lib/python3.10/dist-packages (from mne) (3.1.4)\n",
            "Requirement already satisfied: lazy-loader>=0.3 in /usr/local/lib/python3.10/dist-packages (from mne) (0.4)\n",
            "Requirement already satisfied: matplotlib>=3.6 in /usr/local/lib/python3.10/dist-packages (from mne) (3.7.1)\n",
            "Requirement already satisfied: numpy<3,>=1.23 in /usr/local/lib/python3.10/dist-packages (from mne) (1.26.4)\n",
            "Requirement already satisfied: packaging in /usr/local/lib/python3.10/dist-packages (from mne) (24.1)\n",
            "Requirement already satisfied: pooch>=1.5 in /usr/local/lib/python3.10/dist-packages (from mne) (1.8.2)\n",
            "Requirement already satisfied: scipy>=1.9 in /usr/local/lib/python3.10/dist-packages (from mne) (1.13.1)\n",
            "Requirement already satisfied: tqdm in /usr/local/lib/python3.10/dist-packages (from mne) (4.66.5)\n",
            "Requirement already satisfied: contourpy>=1.0.1 in /usr/local/lib/python3.10/dist-packages (from matplotlib>=3.6->mne) (1.2.1)\n",
            "Requirement already satisfied: cycler>=0.10 in /usr/local/lib/python3.10/dist-packages (from matplotlib>=3.6->mne) (0.12.1)\n",
            "Requirement already satisfied: fonttools>=4.22.0 in /usr/local/lib/python3.10/dist-packages (from matplotlib>=3.6->mne) (4.53.1)\n",
            "Requirement already satisfied: kiwisolver>=1.0.1 in /usr/local/lib/python3.10/dist-packages (from matplotlib>=3.6->mne) (1.4.5)\n",
            "Requirement already satisfied: pillow>=6.2.0 in /usr/local/lib/python3.10/dist-packages (from matplotlib>=3.6->mne) (9.4.0)\n",
            "Requirement already satisfied: pyparsing>=2.3.1 in /usr/local/lib/python3.10/dist-packages (from matplotlib>=3.6->mne) (3.1.2)\n",
            "Requirement already satisfied: python-dateutil>=2.7 in /usr/local/lib/python3.10/dist-packages (from matplotlib>=3.6->mne) (2.8.2)\n",
            "Requirement already satisfied: platformdirs>=2.5.0 in /usr/local/lib/python3.10/dist-packages (from pooch>=1.5->mne) (4.2.2)\n",
            "Requirement already satisfied: requests>=2.19.0 in /usr/local/lib/python3.10/dist-packages (from pooch>=1.5->mne) (2.32.3)\n",
            "Requirement already satisfied: MarkupSafe>=2.0 in /usr/local/lib/python3.10/dist-packages (from jinja2->mne) (2.1.5)\n",
            "Requirement already satisfied: six>=1.5 in /usr/local/lib/python3.10/dist-packages (from python-dateutil>=2.7->matplotlib>=3.6->mne) (1.16.0)\n",
            "Requirement already satisfied: charset-normalizer<4,>=2 in /usr/local/lib/python3.10/dist-packages (from requests>=2.19.0->pooch>=1.5->mne) (3.3.2)\n",
            "Requirement already satisfied: idna<4,>=2.5 in /usr/local/lib/python3.10/dist-packages (from requests>=2.19.0->pooch>=1.5->mne) (3.7)\n",
            "Requirement already satisfied: urllib3<3,>=1.21.1 in /usr/local/lib/python3.10/dist-packages (from requests>=2.19.0->pooch>=1.5->mne) (2.0.7)\n",
            "Requirement already satisfied: certifi>=2017.4.17 in /usr/local/lib/python3.10/dist-packages (from requests>=2.19.0->pooch>=1.5->mne) (2024.7.4)\n",
            "Downloading mne-1.8.0-py3-none-any.whl (7.4 MB)\n",
            "\u001b[2K   \u001b[90m━━━━━━━━━━━━━━━━━━━━━━━━━━━━━━━━━━━━━━━━\u001b[0m \u001b[32m7.4/7.4 MB\u001b[0m \u001b[31m39.2 MB/s\u001b[0m eta \u001b[36m0:00:00\u001b[0m\n",
            "\u001b[?25hInstalling collected packages: mne\n",
            "Successfully installed mne-1.8.0\n"
          ]
        }
      ]
    },
    {
      "cell_type": "code",
      "source": [
        "import os\n",
        "import mne\n",
        "from sklearn.decomposition import PCA"
      ],
      "metadata": {
        "id": "PA_PpD29WcT7"
      },
      "execution_count": 3,
      "outputs": []
    },
    {
      "cell_type": "code",
      "source": [
        "# Define the folder containing the .gdf files and the folder to save the modified files\n",
        "input_folder_path = '/content/drive/MyDrive/BCI_Database/gdf'\n",
        "output_folder_path = '/content/drive/MyDrive/BCI_Database/gdf/PCA_Applied'"
      ],
      "metadata": {
        "id": "LAClTNvPWd0e"
      },
      "execution_count": 4,
      "outputs": []
    },
    {
      "cell_type": "code",
      "source": [
        "# Ensure the output folder exists\n",
        "os.makedirs(output_folder_path, exist_ok=True)"
      ],
      "metadata": {
        "id": "1fnGsuhcWfT2"
      },
      "execution_count": 5,
      "outputs": []
    },
    {
      "cell_type": "code",
      "source": [
        "# Loop through all files in the input folder\n",
        "for filename in os.listdir(input_folder_path):\n",
        "    if filename.endswith('.gdf'):\n",
        "        # Construct the full file path\n",
        "        file_path = os.path.join(input_folder_path, filename)\n",
        "\n",
        "        # Load the .gdf file\n",
        "        raw = mne.io.read_raw_gdf(file_path, preload=True)\n",
        "\n",
        "        # Extract data and apply PCA\n",
        "        data = raw.get_data()\n",
        "        n_channels = data.shape[0]  # Number of channels\n",
        "        pca = PCA(n_components=n_channels)\n",
        "        pca_data = pca.fit_transform(data.T).T  # Transpose for PCA and then transpose back\n",
        "\n",
        "        # Create a new Raw object with the PCA data\n",
        "        info = raw.info\n",
        "        raw_pca = mne.io.RawArray(pca_data, info)\n",
        "\n",
        "        # Save the modified raw data to the output folder\n",
        "        raw_pca_file_path = os.path.join(output_folder_path, f'pca_applied_{filename}.fif')\n",
        "        raw_pca.save(raw_pca_file_path, overwrite=True)\n",
        "\n",
        "        print(f'PCA applied and saved for {filename} in {output_folder_path}')\n",
        "\n",
        "print('PCA processing complete for all .gdf files in the folder.')"
      ],
      "metadata": {
        "colab": {
          "base_uri": "https://localhost:8080/"
        },
        "id": "9uCFDEYMa0du",
        "outputId": "c6124b8d-58d0-4688-ae79-68432a548170"
      },
      "execution_count": 7,
      "outputs": [
        {
          "output_type": "stream",
          "name": "stdout",
          "text": [
            "Extracting EDF parameters from /content/drive/MyDrive/BCI_Database/gdf/A1_CE_baseline.gdf...\n",
            "GDF file detected\n",
            "Setting channel info structure...\n",
            "Could not determine channel type of the following channels, they will be set as EEG:\n",
            "Fz, FCz, Cz, CPz, Pz, C1, C3, C5, C2, C4, C6, EOG1, EOG2, EOG3, EMGg, EMGd, F4, FC2, FC4, FC6, CP2, CP4, CP6, P4, F3, FC1, FC3, FC5, CP1, CP3, CP5, P3\n",
            "Creating raw.info structure...\n",
            "Reading 0 ... 95775  =      0.000 ...   187.061 secs...\n",
            "Creating RawArray with float64 data, n_channels=32, n_times=95776\n",
            "    Range : 0 ... 95775 =      0.000 ...   187.061 secs\n",
            "Ready.\n",
            "Writing /content/drive/MyDrive/BCI_Database/gdf/PCA_Applied/pca_applied_A1_CE_baseline.gdf.fif\n",
            "Closing /content/drive/MyDrive/BCI_Database/gdf/PCA_Applied/pca_applied_A1_CE_baseline.gdf.fif\n",
            "[done]\n",
            "PCA applied and saved for A1_CE_baseline.gdf in /content/drive/MyDrive/BCI_Database/gdf/PCA_Applied\n",
            "Extracting EDF parameters from /content/drive/MyDrive/BCI_Database/gdf/C85_R2_acquisition.gdf...\n",
            "GDF file detected\n"
          ]
        },
        {
          "output_type": "stream",
          "name": "stderr",
          "text": [
            "<ipython-input-7-69211502b161>:22: RuntimeWarning: This filename (/content/drive/MyDrive/BCI_Database/gdf/PCA_Applied/pca_applied_A1_CE_baseline.gdf.fif) does not conform to MNE naming conventions. All raw files should end with raw.fif, raw_sss.fif, raw_tsss.fif, _meg.fif, _eeg.fif, _ieeg.fif, raw.fif.gz, raw_sss.fif.gz, raw_tsss.fif.gz, _meg.fif.gz, _eeg.fif.gz or _ieeg.fif.gz\n",
            "  raw_pca.save(raw_pca_file_path, overwrite=True)\n"
          ]
        },
        {
          "output_type": "stream",
          "name": "stdout",
          "text": [
            "Setting channel info structure...\n",
            "Could not determine channel type of the following channels, they will be set as EEG:\n",
            "Fz, FCz, Cz, CPz, Pz, C1, C3, C5, C2, C4, C6, EOG1, EOG2, EOG3, EMGg, EMGd, F4, FC2, FC4, FC6, CP2, CP4, CP6, P4, F3, FC1, FC3, FC5, CP1, CP3, CP5, P3\n",
            "Creating raw.info structure...\n",
            "Reading 0 ... 230431  =      0.000 ...   450.061 secs...\n",
            "Creating RawArray with float64 data, n_channels=32, n_times=230432\n",
            "    Range : 0 ... 230431 =      0.000 ...   450.061 secs\n",
            "Ready.\n",
            "Writing /content/drive/MyDrive/BCI_Database/gdf/PCA_Applied/pca_applied_C85_R2_acquisition.gdf.fif\n"
          ]
        },
        {
          "output_type": "stream",
          "name": "stderr",
          "text": [
            "<ipython-input-7-69211502b161>:22: RuntimeWarning: This filename (/content/drive/MyDrive/BCI_Database/gdf/PCA_Applied/pca_applied_C85_R2_acquisition.gdf.fif) does not conform to MNE naming conventions. All raw files should end with raw.fif, raw_sss.fif, raw_tsss.fif, _meg.fif, _eeg.fif, _ieeg.fif, raw.fif.gz, raw_sss.fif.gz, raw_tsss.fif.gz, _meg.fif.gz, _eeg.fif.gz or _ieeg.fif.gz\n",
            "  raw_pca.save(raw_pca_file_path, overwrite=True)\n"
          ]
        },
        {
          "output_type": "stream",
          "name": "stdout",
          "text": [
            "Closing /content/drive/MyDrive/BCI_Database/gdf/PCA_Applied/pca_applied_C85_R2_acquisition.gdf.fif\n",
            "[done]\n",
            "PCA applied and saved for C85_R2_acquisition.gdf in /content/drive/MyDrive/BCI_Database/gdf/PCA_Applied\n",
            "Extracting EDF parameters from /content/drive/MyDrive/BCI_Database/gdf/A4_R3_onlineT.gdf...\n",
            "GDF file detected\n",
            "Setting channel info structure...\n",
            "Could not determine channel type of the following channels, they will be set as EEG:\n",
            "Fz, FCz, Cz, CPz, Pz, C1, C3, C5, C2, C4, C6, EOG1, EOG2, EOG3, EMGg, EMGd, F4, FC2, FC4, FC6, CP2, CP4, CP6, P4, F3, FC1, FC3, FC5, CP1, CP3, CP5, P3\n",
            "Creating raw.info structure...\n",
            "Reading 0 ... 230431  =      0.000 ...   450.061 secs...\n",
            "Creating RawArray with float64 data, n_channels=32, n_times=230432\n",
            "    Range : 0 ... 230431 =      0.000 ...   450.061 secs\n",
            "Ready.\n",
            "Writing /content/drive/MyDrive/BCI_Database/gdf/PCA_Applied/pca_applied_A4_R3_onlineT.gdf.fif\n"
          ]
        },
        {
          "output_type": "stream",
          "name": "stderr",
          "text": [
            "<ipython-input-7-69211502b161>:22: RuntimeWarning: This filename (/content/drive/MyDrive/BCI_Database/gdf/PCA_Applied/pca_applied_A4_R3_onlineT.gdf.fif) does not conform to MNE naming conventions. All raw files should end with raw.fif, raw_sss.fif, raw_tsss.fif, _meg.fif, _eeg.fif, _ieeg.fif, raw.fif.gz, raw_sss.fif.gz, raw_tsss.fif.gz, _meg.fif.gz, _eeg.fif.gz or _ieeg.fif.gz\n",
            "  raw_pca.save(raw_pca_file_path, overwrite=True)\n"
          ]
        },
        {
          "output_type": "stream",
          "name": "stdout",
          "text": [
            "Closing /content/drive/MyDrive/BCI_Database/gdf/PCA_Applied/pca_applied_A4_R3_onlineT.gdf.fif\n",
            "[done]\n",
            "PCA applied and saved for A4_R3_onlineT.gdf in /content/drive/MyDrive/BCI_Database/gdf/PCA_Applied\n",
            "Extracting EDF parameters from /content/drive/MyDrive/BCI_Database/gdf/B66_R3_onlineT.gdf...\n",
            "GDF file detected\n",
            "Setting channel info structure...\n",
            "Could not determine channel type of the following channels, they will be set as EEG:\n",
            "Fz, FCz, Cz, CPz, Pz, C1, C3, C5, C2, C4, C6, EOG1, EOG2, EOG3, EMGg, EMGd, F4, FC2, FC4, FC6, CP2, CP4, CP6, P4, F3, FC1, FC3, FC5, CP1, CP3, CP5, P3\n",
            "Creating raw.info structure...\n",
            "Reading 0 ... 261599  =      0.000 ...   510.936 secs...\n",
            "Creating RawArray with float64 data, n_channels=32, n_times=261600\n",
            "    Range : 0 ... 261599 =      0.000 ...   510.936 secs\n",
            "Ready.\n",
            "Writing /content/drive/MyDrive/BCI_Database/gdf/PCA_Applied/pca_applied_B66_R3_onlineT.gdf.fif\n"
          ]
        },
        {
          "output_type": "stream",
          "name": "stderr",
          "text": [
            "<ipython-input-7-69211502b161>:22: RuntimeWarning: This filename (/content/drive/MyDrive/BCI_Database/gdf/PCA_Applied/pca_applied_B66_R3_onlineT.gdf.fif) does not conform to MNE naming conventions. All raw files should end with raw.fif, raw_sss.fif, raw_tsss.fif, _meg.fif, _eeg.fif, _ieeg.fif, raw.fif.gz, raw_sss.fif.gz, raw_tsss.fif.gz, _meg.fif.gz, _eeg.fif.gz or _ieeg.fif.gz\n",
            "  raw_pca.save(raw_pca_file_path, overwrite=True)\n"
          ]
        },
        {
          "output_type": "stream",
          "name": "stdout",
          "text": [
            "Closing /content/drive/MyDrive/BCI_Database/gdf/PCA_Applied/pca_applied_B66_R3_onlineT.gdf.fif\n",
            "[done]\n",
            "PCA applied and saved for B66_R3_onlineT.gdf in /content/drive/MyDrive/BCI_Database/gdf/PCA_Applied\n",
            "PCA processing complete for all .gdf files in the folder.\n"
          ]
        }
      ]
    }
  ]
}