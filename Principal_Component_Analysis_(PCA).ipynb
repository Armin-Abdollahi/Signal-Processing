{
  "nbformat": 4,
  "nbformat_minor": 0,
  "metadata": {
    "colab": {
      "provenance": [],
      "authorship_tag": "ABX9TyNsQfypRXJnnhzS/5F01hS8",
      "include_colab_link": true
    },
    "kernelspec": {
      "name": "python3",
      "display_name": "Python 3"
    },
    "language_info": {
      "name": "python"
    }
  },
  "cells": [
    {
      "cell_type": "markdown",
      "metadata": {
        "id": "view-in-github",
        "colab_type": "text"
      },
      "source": [
        "<a href=\"https://colab.research.google.com/github/Armin-Abdollahi/Signal-Processing/blob/main/Principal_Component_Analysis_(PCA).ipynb\" target=\"_parent\"><img src=\"https://colab.research.google.com/assets/colab-badge.svg\" alt=\"Open In Colab\"/></a>"
      ]
    },
    {
      "cell_type": "markdown",
      "source": [
        "## Principal Component Analysis (PCA)\n",
        "\n",
        "Using the MNE library to apply Principal Component Analysis (PCA) on all .gdf files in a specified folder and then saves the modified raw data to a specified output folder"
      ],
      "metadata": {
        "id": "QFI1fDasWW8Q"
      }
    },
    {
      "cell_type": "code",
      "execution_count": null,
      "metadata": {
        "id": "u59wkJLsWRNt"
      },
      "outputs": [],
      "source": [
        "from google.colab import drive\n",
        "drive.mount('/content/drive')"
      ]
    },
    {
      "cell_type": "code",
      "source": [
        "!pip install --upgrade mne"
      ],
      "metadata": {
        "id": "-Hqr_dgoWZ3S"
      },
      "execution_count": null,
      "outputs": []
    },
    {
      "cell_type": "code",
      "source": [
        "import os\n",
        "import mne\n",
        "from sklearn.decomposition import PCA"
      ],
      "metadata": {
        "id": "PA_PpD29WcT7"
      },
      "execution_count": null,
      "outputs": []
    },
    {
      "cell_type": "code",
      "source": [
        "# Define the folder containing the .gdf files and the folder to save the modified files\n",
        "input_folder_path = '/content/drive/MyDrive/BCI_Database/gdf'\n",
        "output_folder_path = '/content/drive/MyDrive/BCI_Database/gdf/PCA_Applied'"
      ],
      "metadata": {
        "id": "LAClTNvPWd0e"
      },
      "execution_count": null,
      "outputs": []
    },
    {
      "cell_type": "code",
      "source": [
        "# Ensure the output folder exists\n",
        "os.makedirs(output_folder_path, exist_ok=True)"
      ],
      "metadata": {
        "id": "1fnGsuhcWfT2"
      },
      "execution_count": null,
      "outputs": []
    },
    {
      "cell_type": "code",
      "source": [
        "# Loop through all files in the input folder\n",
        "for filename in os.listdir(input_folder_path):\n",
        "    if filename.endswith('.gdf'):\n",
        "        # Construct the full file path\n",
        "        file_path = os.path.join(input_folder_path, filename)\n",
        "\n",
        "        # Load the .gdf file\n",
        "        raw = mne.io.read_raw_gdf(file_path, preload=True)\n",
        "\n",
        "        # Extract data and apply PCA\n",
        "        data = raw.get_data()\n",
        "        pca = PCA(n_components=20)\n",
        "        pca_data = pca.fit_transform(data.T).T  # Transpose for PCA and then transpose back\n",
        "\n",
        "        # Create a new Raw object with the PCA data\n",
        "        info = raw.info\n",
        "        raw_pca = mne.io.RawArray(pca_data, info)\n",
        "\n",
        "        # Save the modified raw data to the output folder\n",
        "        raw_pca_file_path = os.path.join(output_folder_path, f'pca_applied_{filename}.fif')\n",
        "        raw_pca.save(raw_pca_file_path, overwrite=True)\n",
        "\n",
        "        print(f'PCA applied and saved for {filename} in {output_folder_path}')\n",
        "\n",
        "print('PCA processing complete for all .gdf files in the folder.')"
      ],
      "metadata": {
        "id": "JH2cls-aWgoR"
      },
      "execution_count": null,
      "outputs": []
    }
  ]
}