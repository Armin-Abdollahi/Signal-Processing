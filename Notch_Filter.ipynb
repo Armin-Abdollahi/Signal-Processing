{
  "nbformat": 4,
  "nbformat_minor": 0,
  "metadata": {
    "colab": {
      "provenance": [],
      "authorship_tag": "ABX9TyOMpzLgiTmajfe/hMhcfZ2O",
      "include_colab_link": true
    },
    "kernelspec": {
      "name": "python3",
      "display_name": "Python 3"
    },
    "language_info": {
      "name": "python"
    }
  },
  "cells": [
    {
      "cell_type": "markdown",
      "metadata": {
        "id": "view-in-github",
        "colab_type": "text"
      },
      "source": [
        "<a href=\"https://colab.research.google.com/github/Armin-Abdollahi/Signal-Processing/blob/main/Notch_Filter.ipynb\" target=\"_parent\"><img src=\"https://colab.research.google.com/assets/colab-badge.svg\" alt=\"Open In Colab\"/></a>"
      ]
    },
    {
      "cell_type": "markdown",
      "source": [
        "## Notch Filter\n",
        "\n",
        "Remove specific frequency components, often used to eliminate power line interference (e.g., 50/60 Hz).\n",
        "\n",
        "Using the MNE library to apply a notch filter on all .gdf files in a specified folder and then saves the modified raw data to a specified output folder."
      ],
      "metadata": {
        "id": "NT1qT7oNdvr2"
      }
    },
    {
      "cell_type": "code",
      "source": [
        "from google.colab import drive\n",
        "drive.mount('/content/drive')"
      ],
      "metadata": {
        "colab": {
          "base_uri": "https://localhost:8080/"
        },
        "id": "Fwqdt1Wad2_0",
        "outputId": "29a48824-54e2-4309-bfec-57ee5c03f708"
      },
      "execution_count": 1,
      "outputs": [
        {
          "output_type": "stream",
          "name": "stdout",
          "text": [
            "Mounted at /content/drive\n"
          ]
        }
      ]
    },
    {
      "cell_type": "code",
      "source": [
        "!pip install --upgrade mne"
      ],
      "metadata": {
        "colab": {
          "base_uri": "https://localhost:8080/"
        },
        "id": "d_OFdsuYd3fe",
        "outputId": "b64d4788-c911-440e-9b1f-86f09e676186"
      },
      "execution_count": 2,
      "outputs": [
        {
          "output_type": "stream",
          "name": "stdout",
          "text": [
            "Collecting mne\n",
            "  Downloading mne-1.8.0-py3-none-any.whl.metadata (21 kB)\n",
            "Requirement already satisfied: decorator in /usr/local/lib/python3.10/dist-packages (from mne) (4.4.2)\n",
            "Requirement already satisfied: jinja2 in /usr/local/lib/python3.10/dist-packages (from mne) (3.1.4)\n",
            "Requirement already satisfied: lazy-loader>=0.3 in /usr/local/lib/python3.10/dist-packages (from mne) (0.4)\n",
            "Requirement already satisfied: matplotlib>=3.6 in /usr/local/lib/python3.10/dist-packages (from mne) (3.7.1)\n",
            "Requirement already satisfied: numpy<3,>=1.23 in /usr/local/lib/python3.10/dist-packages (from mne) (1.26.4)\n",
            "Requirement already satisfied: packaging in /usr/local/lib/python3.10/dist-packages (from mne) (24.1)\n",
            "Requirement already satisfied: pooch>=1.5 in /usr/local/lib/python3.10/dist-packages (from mne) (1.8.2)\n",
            "Requirement already satisfied: scipy>=1.9 in /usr/local/lib/python3.10/dist-packages (from mne) (1.13.1)\n",
            "Requirement already satisfied: tqdm in /usr/local/lib/python3.10/dist-packages (from mne) (4.66.5)\n",
            "Requirement already satisfied: contourpy>=1.0.1 in /usr/local/lib/python3.10/dist-packages (from matplotlib>=3.6->mne) (1.2.1)\n",
            "Requirement already satisfied: cycler>=0.10 in /usr/local/lib/python3.10/dist-packages (from matplotlib>=3.6->mne) (0.12.1)\n",
            "Requirement already satisfied: fonttools>=4.22.0 in /usr/local/lib/python3.10/dist-packages (from matplotlib>=3.6->mne) (4.53.1)\n",
            "Requirement already satisfied: kiwisolver>=1.0.1 in /usr/local/lib/python3.10/dist-packages (from matplotlib>=3.6->mne) (1.4.5)\n",
            "Requirement already satisfied: pillow>=6.2.0 in /usr/local/lib/python3.10/dist-packages (from matplotlib>=3.6->mne) (9.4.0)\n",
            "Requirement already satisfied: pyparsing>=2.3.1 in /usr/local/lib/python3.10/dist-packages (from matplotlib>=3.6->mne) (3.1.2)\n",
            "Requirement already satisfied: python-dateutil>=2.7 in /usr/local/lib/python3.10/dist-packages (from matplotlib>=3.6->mne) (2.8.2)\n",
            "Requirement already satisfied: platformdirs>=2.5.0 in /usr/local/lib/python3.10/dist-packages (from pooch>=1.5->mne) (4.2.2)\n",
            "Requirement already satisfied: requests>=2.19.0 in /usr/local/lib/python3.10/dist-packages (from pooch>=1.5->mne) (2.32.3)\n",
            "Requirement already satisfied: MarkupSafe>=2.0 in /usr/local/lib/python3.10/dist-packages (from jinja2->mne) (2.1.5)\n",
            "Requirement already satisfied: six>=1.5 in /usr/local/lib/python3.10/dist-packages (from python-dateutil>=2.7->matplotlib>=3.6->mne) (1.16.0)\n",
            "Requirement already satisfied: charset-normalizer<4,>=2 in /usr/local/lib/python3.10/dist-packages (from requests>=2.19.0->pooch>=1.5->mne) (3.3.2)\n",
            "Requirement already satisfied: idna<4,>=2.5 in /usr/local/lib/python3.10/dist-packages (from requests>=2.19.0->pooch>=1.5->mne) (3.7)\n",
            "Requirement already satisfied: urllib3<3,>=1.21.1 in /usr/local/lib/python3.10/dist-packages (from requests>=2.19.0->pooch>=1.5->mne) (2.0.7)\n",
            "Requirement already satisfied: certifi>=2017.4.17 in /usr/local/lib/python3.10/dist-packages (from requests>=2.19.0->pooch>=1.5->mne) (2024.7.4)\n",
            "Downloading mne-1.8.0-py3-none-any.whl (7.4 MB)\n",
            "\u001b[2K   \u001b[90m━━━━━━━━━━━━━━━━━━━━━━━━━━━━━━━━━━━━━━━━\u001b[0m \u001b[32m7.4/7.4 MB\u001b[0m \u001b[31m46.0 MB/s\u001b[0m eta \u001b[36m0:00:00\u001b[0m\n",
            "\u001b[?25hInstalling collected packages: mne\n",
            "Successfully installed mne-1.8.0\n"
          ]
        }
      ]
    },
    {
      "cell_type": "code",
      "execution_count": 3,
      "metadata": {
        "id": "RX4yIGNudvBT"
      },
      "outputs": [],
      "source": [
        "import os\n",
        "import mne\n",
        "from scipy import signal"
      ]
    },
    {
      "cell_type": "code",
      "source": [
        "# Define the folder containing the .gdf files and the folder to save the modified files\n",
        "input_folder_path = '/content/drive/MyDrive/BCI_Database/gdf'\n",
        "output_folder_path = '/content/drive/MyDrive/BCI_Database/gdf/Notch_Filter_Applied'"
      ],
      "metadata": {
        "id": "ctnFBp23d80Y"
      },
      "execution_count": 4,
      "outputs": []
    },
    {
      "cell_type": "code",
      "source": [
        "# Ensure the output folder exists\n",
        "os.makedirs(output_folder_path, exist_ok=True)"
      ],
      "metadata": {
        "id": "jqbzEfGVd-H1"
      },
      "execution_count": 5,
      "outputs": []
    },
    {
      "cell_type": "code",
      "source": [
        "# Parameters for the notch filter\n",
        "notch_freqs = [50.0]  # Frequency to be removed from signal (Hz)\n",
        "quality_factor = 30.0  # Quality factor"
      ],
      "metadata": {
        "id": "8Jy2uxK9d_hA"
      },
      "execution_count": 8,
      "outputs": []
    },
    {
      "cell_type": "code",
      "source": [
        "# Loop through all files in the input folder\n",
        "for filename in os.listdir(input_folder_path):\n",
        "    if filename.endswith('.gdf'):\n",
        "        # Construct the full file path\n",
        "        file_path = os.path.join(input_folder_path, filename)\n",
        "\n",
        "        # Load the .gdf file\n",
        "        raw = mne.io.read_raw_gdf(file_path, preload=True)\n",
        "\n",
        "        # Apply the notch filter\n",
        "        raw_filtered = raw.copy().notch_filter(freqs=notch_freqs, notch_widths=quality_factor)\n",
        "\n",
        "        # Save the modified raw data to the output folder\n",
        "        raw_filtered_file_path = os.path.join(output_folder_path, f'notch_filtered_{filename}.fif')\n",
        "        raw_filtered.save(raw_filtered_file_path, overwrite=True)\n",
        "\n",
        "        print(f'Notch filter applied and saved for {filename} in {output_folder_path}')\n",
        "\n",
        "print('Notch filtering complete for all .gdf files in the folder.')"
      ],
      "metadata": {
        "colab": {
          "base_uri": "https://localhost:8080/"
        },
        "id": "_rNSPz8jt3PG",
        "outputId": "9eceb0ad-fc2b-4de1-d903-25c3187b8028"
      },
      "execution_count": 9,
      "outputs": [
        {
          "output_type": "stream",
          "name": "stdout",
          "text": [
            "Extracting EDF parameters from /content/drive/MyDrive/BCI_Database/gdf/A1_CE_baseline.gdf...\n",
            "GDF file detected\n",
            "Setting channel info structure...\n",
            "Could not determine channel type of the following channels, they will be set as EEG:\n",
            "Fz, FCz, Cz, CPz, Pz, C1, C3, C5, C2, C4, C6, EOG1, EOG2, EOG3, EMGg, EMGd, F4, FC2, FC4, FC6, CP2, CP4, CP6, P4, F3, FC1, FC3, FC5, CP1, CP3, CP5, P3\n",
            "Creating raw.info structure...\n",
            "Reading 0 ... 95775  =      0.000 ...   187.061 secs...\n",
            "Filtering raw data in 1 contiguous segment\n",
            "Setting up band-stop filter from 34 - 66 Hz\n",
            "\n",
            "FIR filter parameters\n",
            "---------------------\n",
            "Designing a one-pass, zero-phase, non-causal bandstop filter:\n",
            "- Windowed time-domain design (firwin) method\n",
            "- Hamming window with 0.0194 passband ripple and 53 dB stopband attenuation\n",
            "- Lower passband edge: 34.50\n",
            "- Lower transition bandwidth: 0.50 Hz (-6 dB cutoff frequency: 34.25 Hz)\n",
            "- Upper passband edge: 65.50 Hz\n",
            "- Upper transition bandwidth: 0.50 Hz (-6 dB cutoff frequency: 65.75 Hz)\n",
            "- Filter length: 3381 samples (6.604 s)\n",
            "\n",
            "Writing /content/drive/MyDrive/BCI_Database/gdf/Notch_Filter_Applied/notch_filtered_A1_CE_baseline.gdf.fif\n"
          ]
        },
        {
          "output_type": "stream",
          "name": "stderr",
          "text": [
            "[Parallel(n_jobs=1)]: Done  17 tasks      | elapsed:    0.0s\n",
            "<ipython-input-9-31a4f9d8e30d>:15: RuntimeWarning: This filename (/content/drive/MyDrive/BCI_Database/gdf/Notch_Filter_Applied/notch_filtered_A1_CE_baseline.gdf.fif) does not conform to MNE naming conventions. All raw files should end with raw.fif, raw_sss.fif, raw_tsss.fif, _meg.fif, _eeg.fif, _ieeg.fif, raw.fif.gz, raw_sss.fif.gz, raw_tsss.fif.gz, _meg.fif.gz, _eeg.fif.gz or _ieeg.fif.gz\n",
            "  raw_filtered.save(raw_filtered_file_path, overwrite=True)\n"
          ]
        },
        {
          "output_type": "stream",
          "name": "stdout",
          "text": [
            "Closing /content/drive/MyDrive/BCI_Database/gdf/Notch_Filter_Applied/notch_filtered_A1_CE_baseline.gdf.fif\n",
            "[done]\n",
            "Notch filter applied and saved for A1_CE_baseline.gdf in /content/drive/MyDrive/BCI_Database/gdf/Notch_Filter_Applied\n",
            "Extracting EDF parameters from /content/drive/MyDrive/BCI_Database/gdf/C85_R2_acquisition.gdf...\n",
            "GDF file detected\n",
            "Setting channel info structure...\n",
            "Could not determine channel type of the following channels, they will be set as EEG:\n",
            "Fz, FCz, Cz, CPz, Pz, C1, C3, C5, C2, C4, C6, EOG1, EOG2, EOG3, EMGg, EMGd, F4, FC2, FC4, FC6, CP2, CP4, CP6, P4, F3, FC1, FC3, FC5, CP1, CP3, CP5, P3\n",
            "Creating raw.info structure...\n",
            "Reading 0 ... 230431  =      0.000 ...   450.061 secs...\n",
            "Filtering raw data in 1 contiguous segment\n",
            "Setting up band-stop filter from 34 - 66 Hz\n",
            "\n",
            "FIR filter parameters\n",
            "---------------------\n",
            "Designing a one-pass, zero-phase, non-causal bandstop filter:\n",
            "- Windowed time-domain design (firwin) method\n",
            "- Hamming window with 0.0194 passband ripple and 53 dB stopband attenuation\n",
            "- Lower passband edge: 34.50\n",
            "- Lower transition bandwidth: 0.50 Hz (-6 dB cutoff frequency: 34.25 Hz)\n",
            "- Upper passband edge: 65.50 Hz\n",
            "- Upper transition bandwidth: 0.50 Hz (-6 dB cutoff frequency: 65.75 Hz)\n",
            "- Filter length: 3381 samples (6.604 s)\n",
            "\n",
            "Writing /content/drive/MyDrive/BCI_Database/gdf/Notch_Filter_Applied/notch_filtered_C85_R2_acquisition.gdf.fif\n"
          ]
        },
        {
          "output_type": "stream",
          "name": "stderr",
          "text": [
            "[Parallel(n_jobs=1)]: Done  17 tasks      | elapsed:    0.1s\n",
            "<ipython-input-9-31a4f9d8e30d>:15: RuntimeWarning: This filename (/content/drive/MyDrive/BCI_Database/gdf/Notch_Filter_Applied/notch_filtered_C85_R2_acquisition.gdf.fif) does not conform to MNE naming conventions. All raw files should end with raw.fif, raw_sss.fif, raw_tsss.fif, _meg.fif, _eeg.fif, _ieeg.fif, raw.fif.gz, raw_sss.fif.gz, raw_tsss.fif.gz, _meg.fif.gz, _eeg.fif.gz or _ieeg.fif.gz\n",
            "  raw_filtered.save(raw_filtered_file_path, overwrite=True)\n"
          ]
        },
        {
          "output_type": "stream",
          "name": "stdout",
          "text": [
            "Closing /content/drive/MyDrive/BCI_Database/gdf/Notch_Filter_Applied/notch_filtered_C85_R2_acquisition.gdf.fif\n",
            "[done]\n",
            "Notch filter applied and saved for C85_R2_acquisition.gdf in /content/drive/MyDrive/BCI_Database/gdf/Notch_Filter_Applied\n",
            "Extracting EDF parameters from /content/drive/MyDrive/BCI_Database/gdf/A4_R3_onlineT.gdf...\n",
            "GDF file detected\n",
            "Setting channel info structure...\n",
            "Could not determine channel type of the following channels, they will be set as EEG:\n",
            "Fz, FCz, Cz, CPz, Pz, C1, C3, C5, C2, C4, C6, EOG1, EOG2, EOG3, EMGg, EMGd, F4, FC2, FC4, FC6, CP2, CP4, CP6, P4, F3, FC1, FC3, FC5, CP1, CP3, CP5, P3\n",
            "Creating raw.info structure...\n",
            "Reading 0 ... 230431  =      0.000 ...   450.061 secs...\n",
            "Filtering raw data in 1 contiguous segment\n",
            "Setting up band-stop filter from 34 - 66 Hz\n",
            "\n",
            "FIR filter parameters\n",
            "---------------------\n",
            "Designing a one-pass, zero-phase, non-causal bandstop filter:\n",
            "- Windowed time-domain design (firwin) method\n",
            "- Hamming window with 0.0194 passband ripple and 53 dB stopband attenuation\n",
            "- Lower passband edge: 34.50\n",
            "- Lower transition bandwidth: 0.50 Hz (-6 dB cutoff frequency: 34.25 Hz)\n",
            "- Upper passband edge: 65.50 Hz\n",
            "- Upper transition bandwidth: 0.50 Hz (-6 dB cutoff frequency: 65.75 Hz)\n",
            "- Filter length: 3381 samples (6.604 s)\n",
            "\n",
            "Writing /content/drive/MyDrive/BCI_Database/gdf/Notch_Filter_Applied/notch_filtered_A4_R3_onlineT.gdf.fif\n"
          ]
        },
        {
          "output_type": "stream",
          "name": "stderr",
          "text": [
            "[Parallel(n_jobs=1)]: Done  17 tasks      | elapsed:    0.1s\n",
            "<ipython-input-9-31a4f9d8e30d>:15: RuntimeWarning: This filename (/content/drive/MyDrive/BCI_Database/gdf/Notch_Filter_Applied/notch_filtered_A4_R3_onlineT.gdf.fif) does not conform to MNE naming conventions. All raw files should end with raw.fif, raw_sss.fif, raw_tsss.fif, _meg.fif, _eeg.fif, _ieeg.fif, raw.fif.gz, raw_sss.fif.gz, raw_tsss.fif.gz, _meg.fif.gz, _eeg.fif.gz or _ieeg.fif.gz\n",
            "  raw_filtered.save(raw_filtered_file_path, overwrite=True)\n"
          ]
        },
        {
          "output_type": "stream",
          "name": "stdout",
          "text": [
            "Closing /content/drive/MyDrive/BCI_Database/gdf/Notch_Filter_Applied/notch_filtered_A4_R3_onlineT.gdf.fif\n",
            "[done]\n",
            "Notch filter applied and saved for A4_R3_onlineT.gdf in /content/drive/MyDrive/BCI_Database/gdf/Notch_Filter_Applied\n",
            "Extracting EDF parameters from /content/drive/MyDrive/BCI_Database/gdf/B66_R3_onlineT.gdf...\n",
            "GDF file detected\n",
            "Setting channel info structure...\n",
            "Could not determine channel type of the following channels, they will be set as EEG:\n",
            "Fz, FCz, Cz, CPz, Pz, C1, C3, C5, C2, C4, C6, EOG1, EOG2, EOG3, EMGg, EMGd, F4, FC2, FC4, FC6, CP2, CP4, CP6, P4, F3, FC1, FC3, FC5, CP1, CP3, CP5, P3\n",
            "Creating raw.info structure...\n",
            "Reading 0 ... 261599  =      0.000 ...   510.936 secs...\n",
            "Filtering raw data in 1 contiguous segment\n",
            "Setting up band-stop filter from 34 - 66 Hz\n",
            "\n",
            "FIR filter parameters\n",
            "---------------------\n",
            "Designing a one-pass, zero-phase, non-causal bandstop filter:\n",
            "- Windowed time-domain design (firwin) method\n",
            "- Hamming window with 0.0194 passband ripple and 53 dB stopband attenuation\n",
            "- Lower passband edge: 34.50\n",
            "- Lower transition bandwidth: 0.50 Hz (-6 dB cutoff frequency: 34.25 Hz)\n",
            "- Upper passband edge: 65.50 Hz\n",
            "- Upper transition bandwidth: 0.50 Hz (-6 dB cutoff frequency: 65.75 Hz)\n",
            "- Filter length: 3381 samples (6.604 s)\n",
            "\n",
            "Writing /content/drive/MyDrive/BCI_Database/gdf/Notch_Filter_Applied/notch_filtered_B66_R3_onlineT.gdf.fif\n"
          ]
        },
        {
          "output_type": "stream",
          "name": "stderr",
          "text": [
            "[Parallel(n_jobs=1)]: Done  17 tasks      | elapsed:    0.2s\n",
            "<ipython-input-9-31a4f9d8e30d>:15: RuntimeWarning: This filename (/content/drive/MyDrive/BCI_Database/gdf/Notch_Filter_Applied/notch_filtered_B66_R3_onlineT.gdf.fif) does not conform to MNE naming conventions. All raw files should end with raw.fif, raw_sss.fif, raw_tsss.fif, _meg.fif, _eeg.fif, _ieeg.fif, raw.fif.gz, raw_sss.fif.gz, raw_tsss.fif.gz, _meg.fif.gz, _eeg.fif.gz or _ieeg.fif.gz\n",
            "  raw_filtered.save(raw_filtered_file_path, overwrite=True)\n"
          ]
        },
        {
          "output_type": "stream",
          "name": "stdout",
          "text": [
            "Closing /content/drive/MyDrive/BCI_Database/gdf/Notch_Filter_Applied/notch_filtered_B66_R3_onlineT.gdf.fif\n",
            "[done]\n",
            "Notch filter applied and saved for B66_R3_onlineT.gdf in /content/drive/MyDrive/BCI_Database/gdf/Notch_Filter_Applied\n",
            "Notch filtering complete for all .gdf files in the folder.\n"
          ]
        }
      ]
    }
  ]
}