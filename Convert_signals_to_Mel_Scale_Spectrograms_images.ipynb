{
  "nbformat": 4,
  "nbformat_minor": 0,
  "metadata": {
    "colab": {
      "provenance": [],
      "authorship_tag": "ABX9TyPH5YOp15HtwJzPNBOFHCnd",
      "include_colab_link": true
    },
    "kernelspec": {
      "name": "python3",
      "display_name": "Python 3"
    },
    "language_info": {
      "name": "python"
    }
  },
  "cells": [
    {
      "cell_type": "markdown",
      "metadata": {
        "id": "view-in-github",
        "colab_type": "text"
      },
      "source": [
        "<a href=\"https://colab.research.google.com/github/Armin-Abdollahi/Signal-Processing/blob/main/Convert_signals_to_Mel_Scale_Spectrograms_images.ipynb\" target=\"_parent\"><img src=\"https://colab.research.google.com/assets/colab-badge.svg\" alt=\"Open In Colab\"/></a>"
      ]
    },
    {
      "cell_type": "markdown",
      "source": [
        "## Convert signal to Mel Scale Spectrograms images\n"
      ],
      "metadata": {
        "id": "rQuThxZSQuXA"
      }
    },
    {
      "cell_type": "code",
      "source": [
        "from google.colab import drive\n",
        "drive.mount('/content/drive')"
      ],
      "metadata": {
        "colab": {
          "base_uri": "https://localhost:8080/"
        },
        "id": "d-_FWUvMTOKA",
        "outputId": "fc4a6a64-a0cd-4cdc-fc40-67e4cfa548ee"
      },
      "execution_count": 1,
      "outputs": [
        {
          "output_type": "stream",
          "name": "stdout",
          "text": [
            "Mounted at /content/drive\n"
          ]
        }
      ]
    },
    {
      "cell_type": "code",
      "source": [
        "!pip install --upgrade mne librosa"
      ],
      "metadata": {
        "colab": {
          "base_uri": "https://localhost:8080/"
        },
        "id": "8xonVkY7TPXF",
        "outputId": "2f7645b5-56f6-4b2e-ebc1-7d69b3c105a5"
      },
      "execution_count": 2,
      "outputs": [
        {
          "output_type": "stream",
          "name": "stdout",
          "text": [
            "Collecting mne\n",
            "  Downloading mne-1.8.0-py3-none-any.whl.metadata (21 kB)\n",
            "Requirement already satisfied: librosa in /usr/local/lib/python3.10/dist-packages (0.10.2.post1)\n",
            "Requirement already satisfied: decorator in /usr/local/lib/python3.10/dist-packages (from mne) (4.4.2)\n",
            "Requirement already satisfied: jinja2 in /usr/local/lib/python3.10/dist-packages (from mne) (3.1.4)\n",
            "Requirement already satisfied: lazy-loader>=0.3 in /usr/local/lib/python3.10/dist-packages (from mne) (0.4)\n",
            "Requirement already satisfied: matplotlib>=3.6 in /usr/local/lib/python3.10/dist-packages (from mne) (3.7.1)\n",
            "Requirement already satisfied: numpy<3,>=1.23 in /usr/local/lib/python3.10/dist-packages (from mne) (1.26.4)\n",
            "Requirement already satisfied: packaging in /usr/local/lib/python3.10/dist-packages (from mne) (24.1)\n",
            "Requirement already satisfied: pooch>=1.5 in /usr/local/lib/python3.10/dist-packages (from mne) (1.8.2)\n",
            "Requirement already satisfied: scipy>=1.9 in /usr/local/lib/python3.10/dist-packages (from mne) (1.13.1)\n",
            "Requirement already satisfied: tqdm in /usr/local/lib/python3.10/dist-packages (from mne) (4.66.5)\n",
            "Requirement already satisfied: audioread>=2.1.9 in /usr/local/lib/python3.10/dist-packages (from librosa) (3.0.1)\n",
            "Requirement already satisfied: scikit-learn>=0.20.0 in /usr/local/lib/python3.10/dist-packages (from librosa) (1.3.2)\n",
            "Requirement already satisfied: joblib>=0.14 in /usr/local/lib/python3.10/dist-packages (from librosa) (1.4.2)\n",
            "Requirement already satisfied: numba>=0.51.0 in /usr/local/lib/python3.10/dist-packages (from librosa) (0.60.0)\n",
            "Requirement already satisfied: soundfile>=0.12.1 in /usr/local/lib/python3.10/dist-packages (from librosa) (0.12.1)\n",
            "Requirement already satisfied: soxr>=0.3.2 in /usr/local/lib/python3.10/dist-packages (from librosa) (0.4.0)\n",
            "Requirement already satisfied: typing-extensions>=4.1.1 in /usr/local/lib/python3.10/dist-packages (from librosa) (4.12.2)\n",
            "Requirement already satisfied: msgpack>=1.0 in /usr/local/lib/python3.10/dist-packages (from librosa) (1.0.8)\n",
            "Requirement already satisfied: contourpy>=1.0.1 in /usr/local/lib/python3.10/dist-packages (from matplotlib>=3.6->mne) (1.2.1)\n",
            "Requirement already satisfied: cycler>=0.10 in /usr/local/lib/python3.10/dist-packages (from matplotlib>=3.6->mne) (0.12.1)\n",
            "Requirement already satisfied: fonttools>=4.22.0 in /usr/local/lib/python3.10/dist-packages (from matplotlib>=3.6->mne) (4.53.1)\n",
            "Requirement already satisfied: kiwisolver>=1.0.1 in /usr/local/lib/python3.10/dist-packages (from matplotlib>=3.6->mne) (1.4.5)\n",
            "Requirement already satisfied: pillow>=6.2.0 in /usr/local/lib/python3.10/dist-packages (from matplotlib>=3.6->mne) (9.4.0)\n",
            "Requirement already satisfied: pyparsing>=2.3.1 in /usr/local/lib/python3.10/dist-packages (from matplotlib>=3.6->mne) (3.1.2)\n",
            "Requirement already satisfied: python-dateutil>=2.7 in /usr/local/lib/python3.10/dist-packages (from matplotlib>=3.6->mne) (2.8.2)\n",
            "Requirement already satisfied: llvmlite<0.44,>=0.43.0dev0 in /usr/local/lib/python3.10/dist-packages (from numba>=0.51.0->librosa) (0.43.0)\n",
            "Requirement already satisfied: platformdirs>=2.5.0 in /usr/local/lib/python3.10/dist-packages (from pooch>=1.5->mne) (4.2.2)\n",
            "Requirement already satisfied: requests>=2.19.0 in /usr/local/lib/python3.10/dist-packages (from pooch>=1.5->mne) (2.32.3)\n",
            "Requirement already satisfied: threadpoolctl>=2.0.0 in /usr/local/lib/python3.10/dist-packages (from scikit-learn>=0.20.0->librosa) (3.5.0)\n",
            "Requirement already satisfied: cffi>=1.0 in /usr/local/lib/python3.10/dist-packages (from soundfile>=0.12.1->librosa) (1.17.0)\n",
            "Requirement already satisfied: MarkupSafe>=2.0 in /usr/local/lib/python3.10/dist-packages (from jinja2->mne) (2.1.5)\n",
            "Requirement already satisfied: pycparser in /usr/local/lib/python3.10/dist-packages (from cffi>=1.0->soundfile>=0.12.1->librosa) (2.22)\n",
            "Requirement already satisfied: six>=1.5 in /usr/local/lib/python3.10/dist-packages (from python-dateutil>=2.7->matplotlib>=3.6->mne) (1.16.0)\n",
            "Requirement already satisfied: charset-normalizer<4,>=2 in /usr/local/lib/python3.10/dist-packages (from requests>=2.19.0->pooch>=1.5->mne) (3.3.2)\n",
            "Requirement already satisfied: idna<4,>=2.5 in /usr/local/lib/python3.10/dist-packages (from requests>=2.19.0->pooch>=1.5->mne) (3.7)\n",
            "Requirement already satisfied: urllib3<3,>=1.21.1 in /usr/local/lib/python3.10/dist-packages (from requests>=2.19.0->pooch>=1.5->mne) (2.0.7)\n",
            "Requirement already satisfied: certifi>=2017.4.17 in /usr/local/lib/python3.10/dist-packages (from requests>=2.19.0->pooch>=1.5->mne) (2024.7.4)\n",
            "Downloading mne-1.8.0-py3-none-any.whl (7.4 MB)\n",
            "\u001b[2K   \u001b[90m━━━━━━━━━━━━━━━━━━━━━━━━━━━━━━━━━━━━━━━━\u001b[0m \u001b[32m7.4/7.4 MB\u001b[0m \u001b[31m40.8 MB/s\u001b[0m eta \u001b[36m0:00:00\u001b[0m\n",
            "\u001b[?25hInstalling collected packages: mne\n",
            "Successfully installed mne-1.8.0\n"
          ]
        }
      ]
    },
    {
      "cell_type": "code",
      "source": [
        "import numpy as np\n",
        "import matplotlib.pyplot as plt\n",
        "import librosa\n",
        "import librosa.display\n",
        "import mne"
      ],
      "metadata": {
        "id": "4Zlp8_YUTQas"
      },
      "execution_count": 3,
      "outputs": []
    },
    {
      "cell_type": "code",
      "source": [
        "# Load the EEG data\n",
        "raw = mne.io.read_raw_gdf('/content/drive/MyDrive/BCI_Database/gdf/A1_CE_baseline.gdf', preload=True)"
      ],
      "metadata": {
        "colab": {
          "base_uri": "https://localhost:8080/"
        },
        "id": "5Q8KH02hTRys",
        "outputId": "1125ff82-ced8-4c86-b5ae-fb6d83731fc8"
      },
      "execution_count": 5,
      "outputs": [
        {
          "output_type": "stream",
          "name": "stdout",
          "text": [
            "Extracting EDF parameters from /content/drive/MyDrive/BCI_Database/gdf/A1_CE_baseline.gdf...\n",
            "GDF file detected\n",
            "Setting channel info structure...\n",
            "Could not determine channel type of the following channels, they will be set as EEG:\n",
            "Fz, FCz, Cz, CPz, Pz, C1, C3, C5, C2, C4, C6, EOG1, EOG2, EOG3, EMGg, EMGd, F4, FC2, FC4, FC6, CP2, CP4, CP6, P4, F3, FC1, FC3, FC5, CP1, CP3, CP5, P3\n",
            "Creating raw.info structure...\n",
            "Reading 0 ... 95775  =      0.000 ...   187.061 secs...\n"
          ]
        }
      ]
    },
    {
      "cell_type": "code",
      "source": [
        "# Pick EEG channels\n",
        "raw.pick_types(meg=False, eeg=True, eog=False, exclude='bads')"
      ],
      "metadata": {
        "colab": {
          "base_uri": "https://localhost:8080/",
          "height": 415
        },
        "id": "1lzALVJyTTiV",
        "outputId": "428313c9-73ac-45d4-c4cd-4b8bc1b31dcb"
      },
      "execution_count": 6,
      "outputs": [
        {
          "output_type": "stream",
          "name": "stdout",
          "text": [
            "NOTE: pick_types() is a legacy function. New code should use inst.pick(...).\n"
          ]
        },
        {
          "output_type": "execute_result",
          "data": {
            "text/plain": [
              "<RawGDF | A1_CE_baseline.gdf, 32 x 95776 (187.1 s), ~23.4 MB, data loaded>"
            ],
            "text/html": [
              "<script type=\"text/javascript\">\n",
              "    const toggleVisibility = (className) => {\n",
              "\n",
              "  const elements = document.querySelectorAll(`.${className}`)\n",
              "\n",
              "  elements.forEach(element => {\n",
              "    if (element.classList.contains('repr-section-header')) {\n",
              "      // Don't collapse the section header row.\n",
              "       return\n",
              "    }\n",
              "    if (element.classList.contains('repr-element-collapsed')) {\n",
              "      // Force a reflow to ensure the display change takes effect before removing the class\n",
              "      element.classList.remove('repr-element-collapsed')\n",
              "      element.offsetHeight // This forces the browser to recalculate layout\n",
              "      element.classList.remove('repr-element-faded')\n",
              "    } else {\n",
              "      // Start transition to hide the element\n",
              "      element.classList.add('repr-element-faded')\n",
              "      element.addEventListener('transitionend', handler = (e) => {\n",
              "        if (e.propertyName === 'opacity' && getComputedStyle(element).opacity === '0.2') {\n",
              "          element.classList.add('repr-element-collapsed')\n",
              "          element.removeEventListener('transitionend', handler)\n",
              "        }\n",
              "      });\n",
              "    }\n",
              "  });\n",
              "\n",
              "  // Take care of button (adjust caret)\n",
              "  const button = document.querySelectorAll(`.repr-section-header.${className} > th.repr-section-toggle-col > button`)[0]\n",
              "  button.classList.toggle('collapsed')\n",
              "\n",
              "  // Take care of the tooltip of the section header row\n",
              "  const sectionHeaderRow = document.querySelectorAll(`tr.repr-section-header.${className}`)[0]\n",
              "  sectionHeaderRow.classList.toggle('collapsed')\n",
              "  sectionHeaderRow.title = sectionHeaderRow.title === 'Hide section' ? 'Show section' : 'Hide section'\n",
              "}\n",
              "</script>\n",
              "\n",
              "<style type=\"text/css\">\n",
              "    table.repr.table.table-hover.table-striped.table-sm.table-responsive.small {\n",
              "  /* Don't make rows wider than they need to be. */\n",
              "  display: inline;\n",
              "}\n",
              "\n",
              "table > tbody > tr.repr-element > td {\n",
              "  /* Apply a tighter layout to the table cells. */\n",
              "  padding-top: 0.1rem;\n",
              "  padding-bottom: 0.1rem;\n",
              "  padding-right: 1rem;\n",
              "}\n",
              "\n",
              "table > tbody > tr > td.repr-section-toggle-col {\n",
              "  /* Remove background and border of the first cell in every row\n",
              "     (this row is only used for the collapse / uncollapse caret)\n",
              "\n",
              "     TODO: Need to find a good solution for VS Code that works in both\n",
              "           light and dark mode. */\n",
              "  border-color: transparent;\n",
              "  --bs-table-accent-bg: transparent;\n",
              "}\n",
              "\n",
              "tr.repr-section-header {\n",
              "  /* Remove stripes from section header rows */\n",
              "  background-color: transparent;\n",
              "  border-color: transparent;\n",
              "  --bs-table-striped-bg: transparent;\n",
              "  cursor: pointer;\n",
              "}\n",
              "\n",
              "tr.repr-section-header > th {\n",
              "  text-align: left !important;\n",
              "  vertical-align: middle;\n",
              "}\n",
              "\n",
              ".repr-element, tr.repr-element > td {\n",
              "  opacity: 1;\n",
              "  text-align: left !important;\n",
              "}\n",
              "\n",
              ".repr-element-faded {\n",
              "  transition: 0.3s ease;\n",
              "  opacity: 0.2;\n",
              "}\n",
              "\n",
              ".repr-element-collapsed {\n",
              "  display: none;\n",
              "}\n",
              "\n",
              "/* Collapse / uncollapse button and the caret it contains. */\n",
              ".repr-section-toggle-col button {\n",
              "  cursor: pointer;\n",
              "  width: 1rem;\n",
              "  background-color: transparent;\n",
              "  border-color: transparent;\n",
              "}\n",
              "\n",
              "span.collapse-uncollapse-caret {\n",
              "  width: 1rem;\n",
              "  height: 1rem;\n",
              "  display: block;\n",
              "  background-repeat: no-repeat;\n",
              "  background-position: left;\n",
              "  background-size: contain;\n",
              "}\n",
              "\n",
              "/* The collapse / uncollapse carets were copied from the free Font Awesome collection and adjusted. */\n",
              "\n",
              "/* Default to black carets for light mode */\n",
              ".repr-section-toggle-col > button.collapsed > span.collapse-uncollapse-caret {\n",
              "  background-image: url('data:image/svg+xml;charset=utf8,<svg xmlns=\"http://www.w3.org/2000/svg\" viewBox=\"0 0 256 512\"><!--!Font Awesome Free 6.5.2 by @fontawesome - https://fontawesome.com License - https://fontawesome.com/license/free Copyright 2024 Fonticons, Inc.--><path fill=\"black\" d=\"M246.6 278.6c12.5-12.5 12.5-32.8 0-45.3l-128-128c-9.2-9.2-22.9-11.9-34.9-6.9s-19.8 16.6-19.8 29.6l0 256c0 12.9 7.8 24.6 19.8 29.6s25.7 2.2 34.9-6.9l128-128z\"/></svg>');\n",
              "}\n",
              "\n",
              ".repr-section-toggle-col\n",
              "  > button:not(.collapsed)\n",
              "  > span.collapse-uncollapse-caret {\n",
              "  background-image: url('data:image/svg+xml;charset=utf8,<svg xmlns=\"http://www.w3.org/2000/svg\" viewBox=\"0 0 320 512\"><!--!Font Awesome Free 6.5.2 by @fontawesome - https://fontawesome.com License - https://fontawesome.com/license/free Copyright 2024 Fonticons, Inc.--><path fill=\"black\" d=\"M137.4 374.6c12.5 12.5 32.8 12.5 45.3 0l128-128c9.2-9.2 11.9-22.9 6.9-34.9s-16.6-19.8-29.6-19.8L32 192c-12.9 0-24.6 7.8-29.6 19.8s-2.2 25.7 6.9 34.9l128 128z\"/></svg>');\n",
              "}\n",
              "\n",
              "/* Use white carets for dark mode */\n",
              "@media (prefers-color-scheme: dark) {\n",
              "  .repr-section-toggle-col > button.collapsed > span.collapse-uncollapse-caret {\n",
              "    background-image: url('data:image/svg+xml;charset=utf8,<svg xmlns=\"http://www.w3.org/2000/svg\" viewBox=\"0 0 256 512\"><!--!Font Awesome Free 6.5.2 by @fontawesome - https://fontawesome.com License - https://fontawesome.com/license/free Copyright 2024 Fonticons, Inc.--><path fill=\"white\" d=\"M246.6 278.6c12.5-12.5 12.5-32.8 0-45.3l-128-128c-9.2-9.2-22.9-11.9-34.9-6.9s-19.8 16.6-19.8 29.6l0 256c0 12.9 7.8 24.6 19.8 29.6s25.7 2.2 34.9-6.9l128-128z\"/></svg>');\n",
              "  }\n",
              "\n",
              "  .repr-section-toggle-col\n",
              "    > button:not(.collapsed)\n",
              "    > span.collapse-uncollapse-caret {\n",
              "    background-image: url('data:image/svg+xml;charset=utf8,<svg xmlns=\"http://www.w3.org/2000/svg\" viewBox=\"0 0 320 512\"><!--!Font Awesome Free 6.5.2 by @fontawesome - https://fontawesome.com License - https://fontawesome.com/license/free Copyright 2024 Fonticons, Inc.--><path fill=\"white\" d=\"M137.4 374.6c12.5 12.5 32.8 12.5 45.3 0l128-128c9.2-9.2 11.9-22.9 6.9-34.9s-16.6-19.8-29.6-19.8L32 192c-12.9 0-24.6 7.8-29.6 19.8s-2.2 25.7 6.9 34.9l128 128z\"/></svg>');\n",
              "  }\n",
              "}\n",
              "\n",
              ".channel-names-btn {\n",
              "  padding: 0;\n",
              "  border: none;\n",
              "  background: none;\n",
              "  text-decoration: underline;\n",
              "  text-decoration-style: dashed;\n",
              "  cursor: pointer;\n",
              "  color: #0d6efd;\n",
              "}\n",
              "\n",
              ".channel-names-btn:hover {\n",
              "  color: #0a58ca;\n",
              "}\n",
              "</style>\n",
              "\n",
              "\n",
              "\n",
              "<table class=\"repr table table-hover table-striped table-sm table-responsive small\">\n",
              "    \n",
              "\n",
              "\n",
              "\n",
              "\n",
              "\n",
              "\n",
              "\n",
              "<tr class=\"repr-section-header general-8c22aa04-a38c-44b0-992d-75e47a412c85\"  title=\"Hide section\" \n",
              "    onclick=\"toggleVisibility('general-8c22aa04-a38c-44b0-992d-75e47a412c85')\">\n",
              "    <th class=\"repr-section-toggle-col\">\n",
              "        <button>\n",
              "            \n",
              "            <span class=\"collapse-uncollapse-caret\"></span>\n",
              "        </button>\n",
              "    </th>\n",
              "    <th colspan=\"2\">\n",
              "        <strong>General</strong>\n",
              "    </th>\n",
              "</tr>\n",
              "\n",
              "<tr class=\"repr-element general-8c22aa04-a38c-44b0-992d-75e47a412c85 \">\n",
              "    <td class=\"repr-section-toggle-col\"></td>\n",
              "    <td>Filename(s)</td>\n",
              "    <td>\n",
              "        \n",
              "        A1_CE_baseline.gdf\n",
              "        \n",
              "        \n",
              "    </td>\n",
              "</tr>\n",
              "\n",
              "<tr class=\"repr-element general-8c22aa04-a38c-44b0-992d-75e47a412c85 \">\n",
              "    <td class=\"repr-section-toggle-col\"></td>\n",
              "    <td>MNE object type</td>\n",
              "    <td>RawGDF</td>\n",
              "</tr>\n",
              "<tr class=\"repr-element general-8c22aa04-a38c-44b0-992d-75e47a412c85 \">\n",
              "    <td class=\"repr-section-toggle-col\"></td>\n",
              "    <td>Measurement date</td>\n",
              "    \n",
              "    <td>Unknown</td>\n",
              "    \n",
              "</tr>\n",
              "<tr class=\"repr-element general-8c22aa04-a38c-44b0-992d-75e47a412c85 \">\n",
              "    <td class=\"repr-section-toggle-col\"></td>\n",
              "    <td>Participant</td>\n",
              "    \n",
              "    \n",
              "    <td>0x00000000</td>\n",
              "    \n",
              "    \n",
              "</tr>\n",
              "<tr class=\"repr-element general-8c22aa04-a38c-44b0-992d-75e47a412c85 \">\n",
              "    <td class=\"repr-section-toggle-col\"></td>\n",
              "    <td>Experimenter</td>\n",
              "    \n",
              "    <td>Unknown</td>\n",
              "    \n",
              "</tr>\n",
              "    \n",
              "\n",
              "\n",
              "\n",
              "\n",
              "\n",
              "\n",
              "\n",
              "<tr class=\"repr-section-header acquisition-57b3cd4b-2759-4046-934f-2f583be030f6\" \n",
              "    title=\"Hide section\"  onclick=\"toggleVisibility('acquisition-57b3cd4b-2759-4046-934f-2f583be030f6')\">\n",
              "    <th class=\"repr-section-toggle-col\">\n",
              "        <button>\n",
              "            \n",
              "            <span class=\"collapse-uncollapse-caret\"></span>\n",
              "        </button>\n",
              "    </th>\n",
              "    <th colspan=\"2\">\n",
              "        <strong>Acquisition</strong>\n",
              "    </th>\n",
              "</tr>\n",
              "\n",
              "<tr class=\"repr-element acquisition-57b3cd4b-2759-4046-934f-2f583be030f6 \">\n",
              "    <td class=\"repr-section-toggle-col\"></td>\n",
              "    <td>Duration</td>\n",
              "    <td>00:03:08 (HH:MM:SS)</td>\n",
              "</tr>\n",
              "\n",
              "\n",
              "\n",
              "\n",
              "\n",
              "\n",
              "\n",
              "\n",
              "<tr class=\"repr-element acquisition-57b3cd4b-2759-4046-934f-2f583be030f6 \">\n",
              "    <td class=\"repr-section-toggle-col\"></td>\n",
              "    <td>Sampling frequency</td>\n",
              "    <td>512.00 Hz</td>\n",
              "</tr>\n",
              "\n",
              "\n",
              "<tr class=\"repr-element acquisition-57b3cd4b-2759-4046-934f-2f583be030f6 \">\n",
              "    <td class=\"repr-section-toggle-col\"></td>\n",
              "    <td>Time points</td>\n",
              "    <td>95,776</td>\n",
              "</tr>\n",
              "\n",
              "\n",
              "    \n",
              "\n",
              "\n",
              "\n",
              "\n",
              "\n",
              "\n",
              "\n",
              "<tr class=\"repr-section-header channels-cab6aa2a-044d-451e-9bca-ac568dddd8c4\"  title=\"Hide section\" \n",
              "    onclick=\"toggleVisibility('channels-cab6aa2a-044d-451e-9bca-ac568dddd8c4')\">\n",
              "    <th class=\"repr-section-toggle-col\">\n",
              "        <button>\n",
              "            \n",
              "            <span class=\"collapse-uncollapse-caret\"></span>\n",
              "        </button>\n",
              "    </th>\n",
              "    <th colspan=\"2\">\n",
              "        <strong>Channels</strong>\n",
              "    </th>\n",
              "</tr>\n",
              "\n",
              "\n",
              "<tr class=\"repr-element channels-cab6aa2a-044d-451e-9bca-ac568dddd8c4 \">\n",
              "    <td class=\"repr-section-toggle-col\"></td>\n",
              "    <td>EEG</td>\n",
              "    <td>\n",
              "        <button class=\"channel-names-btn\" onclick=\"alert('Good EEG:\\n\\nFz, FCz, Cz, CPz, Pz, C1, C3, C5, C2, C4, C6, EOG1, EOG2, EOG3, EMGg, EMGd, F4, FC2, FC4, FC6, CP2, CP4, CP6, P4, F3, FC1, FC3, FC5, CP1, CP3, CP5, P3')\" title=\"(Click to open in popup)&#13;&#13;Fz, FCz, Cz, CPz, Pz, C1, C3, C5, C2, C4, C6, EOG1, EOG2, EOG3, EMGg, EMGd, F4, FC2, FC4, FC6, CP2, CP4, CP6, P4, F3, FC1, FC3, FC5, CP1, CP3, CP5, P3\">\n",
              "            32\n",
              "        </button>\n",
              "\n",
              "        \n",
              "    </td>\n",
              "</tr>\n",
              "\n",
              "\n",
              "<tr class=\"repr-element channels-cab6aa2a-044d-451e-9bca-ac568dddd8c4 \">\n",
              "    <td class=\"repr-section-toggle-col\"></td>\n",
              "    <td>Head & sensor digitization</td>\n",
              "    \n",
              "    <td>Not available</td>\n",
              "    \n",
              "</tr>\n",
              "    \n",
              "\n",
              "\n",
              "\n",
              "\n",
              "\n",
              "\n",
              "\n",
              "<tr class=\"repr-section-header filters-bf3a31d6-597d-47e7-ab04-ab0a83b271ab\"  title=\"Hide section\" \n",
              "    onclick=\"toggleVisibility('filters-bf3a31d6-597d-47e7-ab04-ab0a83b271ab')\">\n",
              "    <th class=\"repr-section-toggle-col\">\n",
              "        <button>\n",
              "            \n",
              "            <span class=\"collapse-uncollapse-caret\"></span>\n",
              "        </button>\n",
              "    </th>\n",
              "    <th colspan=\"2\">\n",
              "        <strong>Filters</strong>\n",
              "    </th>\n",
              "</tr>\n",
              "\n",
              "<tr class=\"repr-element filters-bf3a31d6-597d-47e7-ab04-ab0a83b271ab \">\n",
              "    <td class=\"repr-section-toggle-col\"></td>\n",
              "    <td>Highpass</td>\n",
              "    <td>0.00 Hz</td>\n",
              "</tr>\n",
              "\n",
              "\n",
              "<tr class=\"repr-element filters-bf3a31d6-597d-47e7-ab04-ab0a83b271ab \">\n",
              "    <td class=\"repr-section-toggle-col\"></td>\n",
              "    <td>Lowpass</td>\n",
              "    <td>256.00 Hz</td>\n",
              "</tr>\n",
              "\n",
              "\n",
              "</table>"
            ]
          },
          "metadata": {},
          "execution_count": 6
        }
      ]
    },
    {
      "cell_type": "code",
      "source": [
        "# Extract data and sampling frequency\n",
        "data, times = raw[:]\n",
        "fs = raw.info['sfreq']"
      ],
      "metadata": {
        "id": "eaGWlgFqTVbD"
      },
      "execution_count": 7,
      "outputs": []
    },
    {
      "cell_type": "code",
      "source": [
        "# Select the data for a single channel, e.g., the first EEG channel\n",
        "channel_data = data[0]"
      ],
      "metadata": {
        "id": "xh3IgM5UTWpT"
      },
      "execution_count": 8,
      "outputs": []
    },
    {
      "cell_type": "code",
      "source": [
        "# Convert the signal to Mel-scale spectrogram\n",
        "S = librosa.feature.melspectrogram(y=channel_data, sr=fs, n_mels=128, fmax=fs/2)"
      ],
      "metadata": {
        "id": "CuKvy2yZTX6H"
      },
      "execution_count": 9,
      "outputs": []
    },
    {
      "cell_type": "code",
      "source": [
        "# Convert to log scale (dB)\n",
        "S_dB = librosa.power_to_db(S, ref=np.max)"
      ],
      "metadata": {
        "id": "MItWIv07TZFN"
      },
      "execution_count": 10,
      "outputs": []
    },
    {
      "cell_type": "code",
      "execution_count": 11,
      "metadata": {
        "colab": {
          "base_uri": "https://localhost:8080/",
          "height": 442
        },
        "id": "cb01wu5OQihU",
        "outputId": "60f48027-9d42-4ed0-f374-8baa5c44111c"
      },
      "outputs": [
        {
          "output_type": "stream",
          "name": "stderr",
          "text": [
            "/usr/local/lib/python3.10/dist-packages/librosa/display.py:1255: UserWarning: All values for SymLogScale are below linthresh, making it effectively linear. You likely should lower the value of linthresh. \n",
            "  if __same_axes(x_axis, y_axis, axes.get_xlim(), axes.get_ylim()) and auto_aspect:\n"
          ]
        },
        {
          "output_type": "display_data",
          "data": {
            "text/plain": [
              "<Figure size 1000x400 with 2 Axes>"
            ],
            "image/png": "[encoded data removed]"
          },
          "metadata": {}
        }
      ],
      "source": [
        "# Plot the Mel-scale spectrogram\n",
        "plt.figure(figsize=(10, 4))\n",
        "librosa.display.specshow(S_dB, sr=fs, x_axis='time', y_axis='mel', fmax=fs/2)\n",
        "plt.colorbar(format='%+2.0f dB')\n",
        "plt.title('Mel-Scale Spectrogram')\n",
        "plt.tight_layout()\n",
        "plt.show()"
      ]
    },
    {
      "cell_type": "markdown",
      "source": [
        "### Using the librosa library to compute Mel Scale Spectrograms for all .gdf files in a specified folder and then saves the spectrograms as images to a specified output folder"
      ],
      "metadata": {
        "id": "QSAA8y6uQwT5"
      }
    },
    {
      "cell_type": "code",
      "source": [
        "from google.colab import drive\n",
        "drive.mount('/content/drive')"
      ],
      "metadata": {
        "id": "lUwa-nRKQ0ZX"
      },
      "execution_count": null,
      "outputs": []
    },
    {
      "cell_type": "code",
      "source": [
        "!pip install --upgrade mne"
      ],
      "metadata": {
        "id": "F1fDYuzrQ15z"
      },
      "execution_count": null,
      "outputs": []
    },
    {
      "cell_type": "code",
      "source": [
        "pip install mne librosa matplotlib"
      ],
      "metadata": {
        "id": "UpeKwNMEQ3sq"
      },
      "execution_count": null,
      "outputs": []
    },
    {
      "cell_type": "code",
      "source": [
        "import os\n",
        "import mne\n",
        "import numpy as np\n",
        "import librosa\n",
        "import librosa.display\n",
        "import matplotlib.pyplot as plt"
      ],
      "metadata": {
        "id": "lktYNjBQQ5Sn"
      },
      "execution_count": null,
      "outputs": []
    },
    {
      "cell_type": "code",
      "source": [
        "# Define the folder containing the .gdf files and the folder to save the spectrograms\n",
        "input_folder_path = '/content/drive/MyDrive/BCI_Database/gdf'\n",
        "output_folder_path = '/content/drive/MyDrive/BCI_Database/gdf/Mel_Spectrograms_Images'"
      ],
      "metadata": {
        "id": "_hVvQny9Q64A"
      },
      "execution_count": null,
      "outputs": []
    },
    {
      "cell_type": "code",
      "source": [
        "# Ensure the output folder exists\n",
        "os.makedirs(output_folder_path, exist_ok=True)"
      ],
      "metadata": {
        "id": "CpRKAHK0Q8a6"
      },
      "execution_count": null,
      "outputs": []
    },
    {
      "cell_type": "code",
      "source": [
        "# Loop through all files in the input folder\n",
        "for filename in os.listdir(input_folder_path):\n",
        "    if filename.endswith('.gdf'):\n",
        "        # Construct the full file path\n",
        "        file_path = os.path.join(input_folder_path, filename)\n",
        "\n",
        "        # Load the .gdf file\n",
        "        raw = mne.io.read_raw_gdf(file_path, preload=True)\n",
        "\n",
        "        # Extract data from the raw object\n",
        "        data = raw.get_data()\n",
        "        sfreq = raw.info['sfreq']\n",
        "\n",
        "        # Loop through each channel in the data\n",
        "        for i, channel_data in enumerate(data):\n",
        "            # Compute the Mel spectrogram\n",
        "            S = librosa.feature.melspectrogram(y=channel_data, sr=sfreq, n_fft=2048, hop_length=512, n_mels=128)\n",
        "            S_dB = librosa.power_to_db(S, ref=np.max)\n",
        "\n",
        "            # Plot the Mel spectrogram\n",
        "            plt.figure(figsize=(10, 4))\n",
        "            librosa.display.specshow(S_dB, sr=sfreq, hop_length=512, x_axis='time', y_axis='mel')\n",
        "            plt.colorbar(format='%+2.0f dB')\n",
        "            plt.title(f'Mel Spectrogram - {filename} - Channel {i}')\n",
        "\n",
        "            # Save the plot as an image\n",
        "            spectrogram_file_path = os.path.join(output_folder_path, f'mel_spectrogram_{filename}_channel_{i}.png')\n",
        "            plt.savefig(spectrogram_file_path)\n",
        "            plt.close()\n",
        "\n",
        "        print(f'Mel spectrograms created and saved for {filename} in {output_folder_path}')\n",
        "\n",
        "print('Mel spectrogram creation complete for all .gdf files in the folder.')"
      ],
      "metadata": {
        "id": "fPRSbVYHQ9tT"
      },
      "execution_count": null,
      "outputs": []
    }
  ]
}