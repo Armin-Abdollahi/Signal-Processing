{
  "nbformat": 4,
  "nbformat_minor": 0,
  "metadata": {
    "colab": {
      "provenance": [],
      "authorship_tag": "ABX9TyPxK3UNiORmpKiv3Vkzs1oi",
      "include_colab_link": true
    },
    "kernelspec": {
      "name": "python3",
      "display_name": "Python 3"
    },
    "language_info": {
      "name": "python"
    }
  },
  "cells": [
    {
      "cell_type": "markdown",
      "metadata": {
        "id": "view-in-github",
        "colab_type": "text"
      },
      "source": [
        "<a href=\"https://colab.research.google.com/github/Armin-Abdollahi/Signal-Processing/blob/main/Independent_Component_Analysis_(ICA).ipynb\" target=\"_parent\"><img src=\"https://colab.research.google.com/assets/colab-badge.svg\" alt=\"Open In Colab\"/></a>"
      ]
    },
    {
      "cell_type": "markdown",
      "source": [
        "## Independent Component Analysis (ICA)\n",
        "\n",
        "Techniques like Independent Component Analysis (ICA) to remove artifacts from EEG signals.\n",
        "\n",
        "Using the MNE library to apply Independent Component Analysis (ICA) on all .gdf files in a specified folder and then save the modified raw data to the specified output folder."
      ],
      "metadata": {
        "id": "usVDrBiXOvSO"
      }
    },
    {
      "cell_type": "code",
      "execution_count": null,
      "metadata": {
        "colab": {
          "base_uri": "https://localhost:8080/"
        },
        "id": "TpnFtLLqCDk9",
        "outputId": "4b929d5c-00e8-409c-946c-c2dc9d53defe"
      },
      "outputs": [
        {
          "output_type": "stream",
          "name": "stdout",
          "text": [
            "Drive already mounted at /content/drive; to attempt to forcibly remount, call drive.mount(\"/content/drive\", force_remount=True).\n"
          ]
        }
      ],
      "source": [
        "from google.colab import drive\n",
        "drive.mount('/content/drive')"
      ]
    },
    {
      "cell_type": "code",
      "source": [
        "!pip install --upgrade mne"
      ],
      "metadata": {
        "colab": {
          "base_uri": "https://localhost:8080/"
        },
        "id": "NLouj5XiCf7s",
        "outputId": "ad373658-5c61-4144-d046-0a6242619d65"
      },
      "execution_count": null,
      "outputs": [
        {
          "output_type": "stream",
          "name": "stdout",
          "text": [
            "Requirement already satisfied: mne in /usr/local/lib/python3.10/dist-packages (1.8.0)\n",
            "Requirement already satisfied: decorator in /usr/local/lib/python3.10/dist-packages (from mne) (4.4.2)\n",
            "Requirement already satisfied: jinja2 in /usr/local/lib/python3.10/dist-packages (from mne) (3.1.4)\n",
            "Requirement already satisfied: lazy-loader>=0.3 in /usr/local/lib/python3.10/dist-packages (from mne) (0.4)\n",
            "Requirement already satisfied: matplotlib>=3.6 in /usr/local/lib/python3.10/dist-packages (from mne) (3.7.1)\n",
            "Requirement already satisfied: numpy<3,>=1.23 in /usr/local/lib/python3.10/dist-packages (from mne) (1.26.4)\n",
            "Requirement already satisfied: packaging in /usr/local/lib/python3.10/dist-packages (from mne) (24.1)\n",
            "Requirement already satisfied: pooch>=1.5 in /usr/local/lib/python3.10/dist-packages (from mne) (1.8.2)\n",
            "Requirement already satisfied: scipy>=1.9 in /usr/local/lib/python3.10/dist-packages (from mne) (1.13.1)\n",
            "Requirement already satisfied: tqdm in /usr/local/lib/python3.10/dist-packages (from mne) (4.66.5)\n",
            "Requirement already satisfied: contourpy>=1.0.1 in /usr/local/lib/python3.10/dist-packages (from matplotlib>=3.6->mne) (1.2.1)\n",
            "Requirement already satisfied: cycler>=0.10 in /usr/local/lib/python3.10/dist-packages (from matplotlib>=3.6->mne) (0.12.1)\n",
            "Requirement already satisfied: fonttools>=4.22.0 in /usr/local/lib/python3.10/dist-packages (from matplotlib>=3.6->mne) (4.53.1)\n",
            "Requirement already satisfied: kiwisolver>=1.0.1 in /usr/local/lib/python3.10/dist-packages (from matplotlib>=3.6->mne) (1.4.5)\n",
            "Requirement already satisfied: pillow>=6.2.0 in /usr/local/lib/python3.10/dist-packages (from matplotlib>=3.6->mne) (9.4.0)\n",
            "Requirement already satisfied: pyparsing>=2.3.1 in /usr/local/lib/python3.10/dist-packages (from matplotlib>=3.6->mne) (3.1.2)\n",
            "Requirement already satisfied: python-dateutil>=2.7 in /usr/local/lib/python3.10/dist-packages (from matplotlib>=3.6->mne) (2.8.2)\n",
            "Requirement already satisfied: platformdirs>=2.5.0 in /usr/local/lib/python3.10/dist-packages (from pooch>=1.5->mne) (4.2.2)\n",
            "Requirement already satisfied: requests>=2.19.0 in /usr/local/lib/python3.10/dist-packages (from pooch>=1.5->mne) (2.32.3)\n",
            "Requirement already satisfied: MarkupSafe>=2.0 in /usr/local/lib/python3.10/dist-packages (from jinja2->mne) (2.1.5)\n",
            "Requirement already satisfied: six>=1.5 in /usr/local/lib/python3.10/dist-packages (from python-dateutil>=2.7->matplotlib>=3.6->mne) (1.16.0)\n",
            "Requirement already satisfied: charset-normalizer<4,>=2 in /usr/local/lib/python3.10/dist-packages (from requests>=2.19.0->pooch>=1.5->mne) (3.3.2)\n",
            "Requirement already satisfied: idna<4,>=2.5 in /usr/local/lib/python3.10/dist-packages (from requests>=2.19.0->pooch>=1.5->mne) (3.7)\n",
            "Requirement already satisfied: urllib3<3,>=1.21.1 in /usr/local/lib/python3.10/dist-packages (from requests>=2.19.0->pooch>=1.5->mne) (2.0.7)\n",
            "Requirement already satisfied: certifi>=2017.4.17 in /usr/local/lib/python3.10/dist-packages (from requests>=2.19.0->pooch>=1.5->mne) (2024.7.4)\n"
          ]
        }
      ]
    },
    {
      "cell_type": "code",
      "source": [
        "import os\n",
        "import mne\n",
        "from mne.preprocessing import ICA"
      ],
      "metadata": {
        "id": "KirmCQwuCfI3"
      },
      "execution_count": null,
      "outputs": []
    },
    {
      "cell_type": "code",
      "source": [
        "# Define the folder containing the .gdf files and the folder to save the modified files\n",
        "input_folder_path = '/content/drive/MyDrive/BCI_Database/gdf'\n",
        "output_folder_path = '/content/drive/MyDrive/BCI_Database/gdf/ICA_Applied'"
      ],
      "metadata": {
        "id": "tMtvKWhUNOF1"
      },
      "execution_count": null,
      "outputs": []
    },
    {
      "cell_type": "code",
      "source": [
        "# Ensure the output folder exists\n",
        "os.makedirs(output_folder_path, exist_ok=True)"
      ],
      "metadata": {
        "id": "pxCGsAY1NfcS"
      },
      "execution_count": null,
      "outputs": []
    },
    {
      "cell_type": "code",
      "source": [
        "# Loop through all files in the input folder\n",
        "for filename in os.listdir(input_folder_path):\n",
        "    if filename.endswith('.gdf'):\n",
        "        # Construct the full file path\n",
        "        file_path = os.path.join(input_folder_path, filename)\n",
        "\n",
        "        # Load the .gdf file\n",
        "        raw = mne.io.read_raw_gdf(file_path, preload=True)\n",
        "\n",
        "        # Apply ICA\n",
        "        ica = ICA(n_components=20, random_state=97)\n",
        "        ica.fit(raw)\n",
        "        raw_ica = ica.apply(raw.copy())\n",
        "\n",
        "        # Save the modified raw data to the output folder\n",
        "        raw_ica_file_path = os.path.join(output_folder_path, f'ica_applied_{filename}.fif')\n",
        "        raw_ica.save(raw_ica_file_path, overwrite=True)\n",
        "\n",
        "        print(f'ICA applied and saved for {filename} in {output_folder_path}')\n",
        "\n",
        "print('ICA processing complete for all .gdf files in the folder.')"
      ],
      "metadata": {
        "colab": {
          "base_uri": "https://localhost:8080/"
        },
        "id": "mWLU79rsNlWY",
        "outputId": "25314afa-6a34-44b6-d1e6-e14a8ecf0e4a"
      },
      "execution_count": null,
      "outputs": [
        {
          "output_type": "stream",
          "name": "stdout",
          "text": [
            "Extracting EDF parameters from /content/drive/MyDrive/BCI_Database/gdf/A1_CE_baseline.gdf...\n",
            "GDF file detected\n",
            "Setting channel info structure...\n",
            "Could not determine channel type of the following channels, they will be set as EEG:\n",
            "Fz, FCz, Cz, CPz, Pz, C1, C3, C5, C2, C4, C6, EOG1, EOG2, EOG3, EMGg, EMGd, F4, FC2, FC4, FC6, CP2, CP4, CP6, P4, F3, FC1, FC3, FC5, CP1, CP3, CP5, P3\n",
            "Creating raw.info structure...\n",
            "Reading 0 ... 95775  =      0.000 ...   187.061 secs...\n",
            "Fitting ICA to data using 32 channels (please be patient, this may take a while)\n"
          ]
        },
        {
          "output_type": "stream",
          "name": "stderr",
          "text": [
            "<ipython-input-11-5141aef1416e>:12: RuntimeWarning: The data has not been high-pass filtered. For good ICA performance, it should be high-pass filtered (e.g., with a 1.0 Hz lower bound) before fitting ICA.\n",
            "  ica.fit(raw)\n"
          ]
        },
        {
          "output_type": "stream",
          "name": "stdout",
          "text": [
            "Selecting by number: 20 components\n",
            "Fitting ICA took 7.1s.\n",
            "Applying ICA to Raw instance\n",
            "    Transforming to ICA space (20 components)\n",
            "    Zeroing out 0 ICA components\n",
            "    Projecting back using 32 PCA components\n",
            "Writing /content/drive/MyDrive/BCI_Database/gdf/ICA_Applied/ica_applied_A1_CE_baseline.gdf.fif\n"
          ]
        },
        {
          "output_type": "stream",
          "name": "stderr",
          "text": [
            "<ipython-input-11-5141aef1416e>:17: RuntimeWarning: This filename (/content/drive/MyDrive/BCI_Database/gdf/ICA_Applied/ica_applied_A1_CE_baseline.gdf.fif) does not conform to MNE naming conventions. All raw files should end with raw.fif, raw_sss.fif, raw_tsss.fif, _meg.fif, _eeg.fif, _ieeg.fif, raw.fif.gz, raw_sss.fif.gz, raw_tsss.fif.gz, _meg.fif.gz, _eeg.fif.gz or _ieeg.fif.gz\n",
            "  raw_ica.save(raw_ica_file_path, overwrite=True)\n"
          ]
        },
        {
          "output_type": "stream",
          "name": "stdout",
          "text": [
            "Closing /content/drive/MyDrive/BCI_Database/gdf/ICA_Applied/ica_applied_A1_CE_baseline.gdf.fif\n",
            "[done]\n",
            "ICA applied and saved for A1_CE_baseline.gdf in /content/drive/MyDrive/BCI_Database/gdf/ICA_Applied\n",
            "Extracting EDF parameters from /content/drive/MyDrive/BCI_Database/gdf/C85_R2_acquisition.gdf...\n",
            "GDF file detected\n",
            "Setting channel info structure...\n",
            "Could not determine channel type of the following channels, they will be set as EEG:\n",
            "Fz, FCz, Cz, CPz, Pz, C1, C3, C5, C2, C4, C6, EOG1, EOG2, EOG3, EMGg, EMGd, F4, FC2, FC4, FC6, CP2, CP4, CP6, P4, F3, FC1, FC3, FC5, CP1, CP3, CP5, P3\n",
            "Creating raw.info structure...\n",
            "Reading 0 ... 230431  =      0.000 ...   450.061 secs...\n",
            "Fitting ICA to data using 32 channels (please be patient, this may take a while)\n"
          ]
        },
        {
          "output_type": "stream",
          "name": "stderr",
          "text": [
            "<ipython-input-11-5141aef1416e>:12: RuntimeWarning: The data has not been high-pass filtered. For good ICA performance, it should be high-pass filtered (e.g., with a 1.0 Hz lower bound) before fitting ICA.\n",
            "  ica.fit(raw)\n"
          ]
        },
        {
          "output_type": "stream",
          "name": "stdout",
          "text": [
            "Selecting by number: 20 components\n",
            "Fitting ICA took 7.0s.\n",
            "Applying ICA to Raw instance\n",
            "    Transforming to ICA space (20 components)\n",
            "    Zeroing out 0 ICA components\n",
            "    Projecting back using 32 PCA components\n",
            "Writing /content/drive/MyDrive/BCI_Database/gdf/ICA_Applied/ica_applied_C85_R2_acquisition.gdf.fif\n"
          ]
        },
        {
          "output_type": "stream",
          "name": "stderr",
          "text": [
            "<ipython-input-11-5141aef1416e>:17: RuntimeWarning: This filename (/content/drive/MyDrive/BCI_Database/gdf/ICA_Applied/ica_applied_C85_R2_acquisition.gdf.fif) does not conform to MNE naming conventions. All raw files should end with raw.fif, raw_sss.fif, raw_tsss.fif, _meg.fif, _eeg.fif, _ieeg.fif, raw.fif.gz, raw_sss.fif.gz, raw_tsss.fif.gz, _meg.fif.gz, _eeg.fif.gz or _ieeg.fif.gz\n",
            "  raw_ica.save(raw_ica_file_path, overwrite=True)\n"
          ]
        },
        {
          "output_type": "stream",
          "name": "stdout",
          "text": [
            "Closing /content/drive/MyDrive/BCI_Database/gdf/ICA_Applied/ica_applied_C85_R2_acquisition.gdf.fif\n",
            "[done]\n",
            "ICA applied and saved for C85_R2_acquisition.gdf in /content/drive/MyDrive/BCI_Database/gdf/ICA_Applied\n",
            "Extracting EDF parameters from /content/drive/MyDrive/BCI_Database/gdf/A4_R3_onlineT.gdf...\n",
            "GDF file detected\n",
            "Setting channel info structure...\n",
            "Could not determine channel type of the following channels, they will be set as EEG:\n",
            "Fz, FCz, Cz, CPz, Pz, C1, C3, C5, C2, C4, C6, EOG1, EOG2, EOG3, EMGg, EMGd, F4, FC2, FC4, FC6, CP2, CP4, CP6, P4, F3, FC1, FC3, FC5, CP1, CP3, CP5, P3\n",
            "Creating raw.info structure...\n",
            "Reading 0 ... 230431  =      0.000 ...   450.061 secs...\n",
            "Fitting ICA to data using 32 channels (please be patient, this may take a while)\n"
          ]
        },
        {
          "output_type": "stream",
          "name": "stderr",
          "text": [
            "<ipython-input-11-5141aef1416e>:12: RuntimeWarning: The data has not been high-pass filtered. For good ICA performance, it should be high-pass filtered (e.g., with a 1.0 Hz lower bound) before fitting ICA.\n",
            "  ica.fit(raw)\n"
          ]
        },
        {
          "output_type": "stream",
          "name": "stdout",
          "text": [
            "Selecting by number: 20 components\n",
            "Fitting ICA took 15.3s.\n",
            "Applying ICA to Raw instance\n",
            "    Transforming to ICA space (20 components)\n",
            "    Zeroing out 0 ICA components\n",
            "    Projecting back using 32 PCA components\n",
            "Writing /content/drive/MyDrive/BCI_Database/gdf/ICA_Applied/ica_applied_A4_R3_onlineT.gdf.fif\n"
          ]
        },
        {
          "output_type": "stream",
          "name": "stderr",
          "text": [
            "<ipython-input-11-5141aef1416e>:17: RuntimeWarning: This filename (/content/drive/MyDrive/BCI_Database/gdf/ICA_Applied/ica_applied_A4_R3_onlineT.gdf.fif) does not conform to MNE naming conventions. All raw files should end with raw.fif, raw_sss.fif, raw_tsss.fif, _meg.fif, _eeg.fif, _ieeg.fif, raw.fif.gz, raw_sss.fif.gz, raw_tsss.fif.gz, _meg.fif.gz, _eeg.fif.gz or _ieeg.fif.gz\n",
            "  raw_ica.save(raw_ica_file_path, overwrite=True)\n"
          ]
        },
        {
          "output_type": "stream",
          "name": "stdout",
          "text": [
            "Closing /content/drive/MyDrive/BCI_Database/gdf/ICA_Applied/ica_applied_A4_R3_onlineT.gdf.fif\n",
            "[done]\n",
            "ICA applied and saved for A4_R3_onlineT.gdf in /content/drive/MyDrive/BCI_Database/gdf/ICA_Applied\n",
            "Extracting EDF parameters from /content/drive/MyDrive/BCI_Database/gdf/B66_R3_onlineT.gdf...\n",
            "GDF file detected\n",
            "Setting channel info structure...\n",
            "Could not determine channel type of the following channels, they will be set as EEG:\n",
            "Fz, FCz, Cz, CPz, Pz, C1, C3, C5, C2, C4, C6, EOG1, EOG2, EOG3, EMGg, EMGd, F4, FC2, FC4, FC6, CP2, CP4, CP6, P4, F3, FC1, FC3, FC5, CP1, CP3, CP5, P3\n",
            "Creating raw.info structure...\n",
            "Reading 0 ... 261599  =      0.000 ...   510.936 secs...\n",
            "Fitting ICA to data using 32 channels (please be patient, this may take a while)\n"
          ]
        },
        {
          "output_type": "stream",
          "name": "stderr",
          "text": [
            "<ipython-input-11-5141aef1416e>:12: RuntimeWarning: The data has not been high-pass filtered. For good ICA performance, it should be high-pass filtered (e.g., with a 1.0 Hz lower bound) before fitting ICA.\n",
            "  ica.fit(raw)\n"
          ]
        },
        {
          "output_type": "stream",
          "name": "stdout",
          "text": [
            "Selecting by number: 20 components\n",
            "Fitting ICA took 18.8s.\n",
            "Applying ICA to Raw instance\n",
            "    Transforming to ICA space (20 components)\n",
            "    Zeroing out 0 ICA components\n",
            "    Projecting back using 32 PCA components\n",
            "Writing /content/drive/MyDrive/BCI_Database/gdf/ICA_Applied/ica_applied_B66_R3_onlineT.gdf.fif\n"
          ]
        },
        {
          "output_type": "stream",
          "name": "stderr",
          "text": [
            "<ipython-input-11-5141aef1416e>:17: RuntimeWarning: This filename (/content/drive/MyDrive/BCI_Database/gdf/ICA_Applied/ica_applied_B66_R3_onlineT.gdf.fif) does not conform to MNE naming conventions. All raw files should end with raw.fif, raw_sss.fif, raw_tsss.fif, _meg.fif, _eeg.fif, _ieeg.fif, raw.fif.gz, raw_sss.fif.gz, raw_tsss.fif.gz, _meg.fif.gz, _eeg.fif.gz or _ieeg.fif.gz\n",
            "  raw_ica.save(raw_ica_file_path, overwrite=True)\n"
          ]
        },
        {
          "output_type": "stream",
          "name": "stdout",
          "text": [
            "Closing /content/drive/MyDrive/BCI_Database/gdf/ICA_Applied/ica_applied_B66_R3_onlineT.gdf.fif\n",
            "[done]\n",
            "ICA applied and saved for B66_R3_onlineT.gdf in /content/drive/MyDrive/BCI_Database/gdf/ICA_Applied\n",
            "ICA processing complete for all .gdf files in the folder.\n"
          ]
        }
      ]
    }
  ]
}