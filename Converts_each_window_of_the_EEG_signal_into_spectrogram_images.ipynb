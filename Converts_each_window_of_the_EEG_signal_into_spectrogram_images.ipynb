{
  "nbformat": 4,
  "nbformat_minor": 0,
  "metadata": {
    "colab": {
      "provenance": [],
      "authorship_tag": "ABX9TyMYdzLPtHg+TtjqaFviSbVK",
      "include_colab_link": true
    },
    "kernelspec": {
      "name": "python3",
      "display_name": "Python 3"
    },
    "language_info": {
      "name": "python"
    }
  },
  "cells": [
    {
      "cell_type": "markdown",
      "metadata": {
        "id": "view-in-github",
        "colab_type": "text"
      },
      "source": [
        "<a href=\"https://colab.research.google.com/github/Armin-Abdollahi/Signal-Processing/blob/main/Converts_each_window_of_the_EEG_signal_into_spectrogram_images.ipynb\" target=\"_parent\"><img src=\"https://colab.research.google.com/assets/colab-badge.svg\" alt=\"Open In Colab\"/></a>"
      ]
    },
    {
      "cell_type": "markdown",
      "source": [
        "## Using the MNE library to normalize the EEG data and segment it into smaller windows"
      ],
      "metadata": {
        "id": "B7p7SeuB793h"
      }
    },
    {
      "cell_type": "code",
      "source": [
        "from google.colab import drive\n",
        "drive.mount('/content/drive')"
      ],
      "metadata": {
        "colab": {
          "base_uri": "https://localhost:8080/"
        },
        "id": "OMTcVhz268x3",
        "outputId": "1d48a21d-7124-4b0c-be58-dc13e32c9bf9"
      },
      "execution_count": 1,
      "outputs": [
        {
          "output_type": "stream",
          "name": "stdout",
          "text": [
            "Mounted at /content/drive\n"
          ]
        }
      ]
    },
    {
      "cell_type": "code",
      "source": [
        "!pip install --upgrade mne"
      ],
      "metadata": {
        "colab": {
          "base_uri": "https://localhost:8080/"
        },
        "id": "1f6xQFtr6-YJ",
        "outputId": "b296f7bd-6cd9-4d25-e104-3fcf88234d4c"
      },
      "execution_count": 2,
      "outputs": [
        {
          "output_type": "stream",
          "name": "stdout",
          "text": [
            "Collecting mne\n",
            "  Downloading mne-1.8.0-py3-none-any.whl.metadata (21 kB)\n",
            "Requirement already satisfied: decorator in /usr/local/lib/python3.10/dist-packages (from mne) (4.4.2)\n",
            "Requirement already satisfied: jinja2 in /usr/local/lib/python3.10/dist-packages (from mne) (3.1.4)\n",
            "Requirement already satisfied: lazy-loader>=0.3 in /usr/local/lib/python3.10/dist-packages (from mne) (0.4)\n",
            "Requirement already satisfied: matplotlib>=3.6 in /usr/local/lib/python3.10/dist-packages (from mne) (3.7.1)\n",
            "Requirement already satisfied: numpy<3,>=1.23 in /usr/local/lib/python3.10/dist-packages (from mne) (1.26.4)\n",
            "Requirement already satisfied: packaging in /usr/local/lib/python3.10/dist-packages (from mne) (24.1)\n",
            "Requirement already satisfied: pooch>=1.5 in /usr/local/lib/python3.10/dist-packages (from mne) (1.8.2)\n",
            "Requirement already satisfied: scipy>=1.9 in /usr/local/lib/python3.10/dist-packages (from mne) (1.13.1)\n",
            "Requirement already satisfied: tqdm in /usr/local/lib/python3.10/dist-packages (from mne) (4.66.5)\n",
            "Requirement already satisfied: contourpy>=1.0.1 in /usr/local/lib/python3.10/dist-packages (from matplotlib>=3.6->mne) (1.2.1)\n",
            "Requirement already satisfied: cycler>=0.10 in /usr/local/lib/python3.10/dist-packages (from matplotlib>=3.6->mne) (0.12.1)\n",
            "Requirement already satisfied: fonttools>=4.22.0 in /usr/local/lib/python3.10/dist-packages (from matplotlib>=3.6->mne) (4.53.1)\n",
            "Requirement already satisfied: kiwisolver>=1.0.1 in /usr/local/lib/python3.10/dist-packages (from matplotlib>=3.6->mne) (1.4.5)\n",
            "Requirement already satisfied: pillow>=6.2.0 in /usr/local/lib/python3.10/dist-packages (from matplotlib>=3.6->mne) (9.4.0)\n",
            "Requirement already satisfied: pyparsing>=2.3.1 in /usr/local/lib/python3.10/dist-packages (from matplotlib>=3.6->mne) (3.1.2)\n",
            "Requirement already satisfied: python-dateutil>=2.7 in /usr/local/lib/python3.10/dist-packages (from matplotlib>=3.6->mne) (2.8.2)\n",
            "Requirement already satisfied: platformdirs>=2.5.0 in /usr/local/lib/python3.10/dist-packages (from pooch>=1.5->mne) (4.2.2)\n",
            "Requirement already satisfied: requests>=2.19.0 in /usr/local/lib/python3.10/dist-packages (from pooch>=1.5->mne) (2.32.3)\n",
            "Requirement already satisfied: MarkupSafe>=2.0 in /usr/local/lib/python3.10/dist-packages (from jinja2->mne) (2.1.5)\n",
            "Requirement already satisfied: six>=1.5 in /usr/local/lib/python3.10/dist-packages (from python-dateutil>=2.7->matplotlib>=3.6->mne) (1.16.0)\n",
            "Requirement already satisfied: charset-normalizer<4,>=2 in /usr/local/lib/python3.10/dist-packages (from requests>=2.19.0->pooch>=1.5->mne) (3.3.2)\n",
            "Requirement already satisfied: idna<4,>=2.5 in /usr/local/lib/python3.10/dist-packages (from requests>=2.19.0->pooch>=1.5->mne) (3.7)\n",
            "Requirement already satisfied: urllib3<3,>=1.21.1 in /usr/local/lib/python3.10/dist-packages (from requests>=2.19.0->pooch>=1.5->mne) (2.0.7)\n",
            "Requirement already satisfied: certifi>=2017.4.17 in /usr/local/lib/python3.10/dist-packages (from requests>=2.19.0->pooch>=1.5->mne) (2024.7.4)\n",
            "Downloading mne-1.8.0-py3-none-any.whl (7.4 MB)\n",
            "\u001b[2K   \u001b[90m━━━━━━━━━━━━━━━━━━━━━━━━━━━━━━━━━━━━━━━━\u001b[0m \u001b[32m7.4/7.4 MB\u001b[0m \u001b[31m45.3 MB/s\u001b[0m eta \u001b[36m0:00:00\u001b[0m\n",
            "\u001b[?25hInstalling collected packages: mne\n",
            "Successfully installed mne-1.8.0\n"
          ]
        }
      ]
    },
    {
      "cell_type": "code",
      "source": [
        "import mne\n",
        "import numpy as np"
      ],
      "metadata": {
        "id": "FmoIzBdt695l"
      },
      "execution_count": 3,
      "outputs": []
    },
    {
      "cell_type": "code",
      "source": [
        "# Load the data\n",
        "file_path = '/content/drive/MyDrive/BCI_Database/gdf/A1_CE_baseline.gdf'\n",
        "raw = mne.io.read_raw_gdf(file_path, preload=True)"
      ],
      "metadata": {
        "colab": {
          "base_uri": "https://localhost:8080/"
        },
        "id": "rxXEhhO77Ako",
        "outputId": "bc4c1e69-f6ba-4434-f5cf-b85d1027c9db"
      },
      "execution_count": 4,
      "outputs": [
        {
          "output_type": "stream",
          "name": "stdout",
          "text": [
            "Extracting EDF parameters from /content/drive/MyDrive/BCI_Database/gdf/A1_CE_baseline.gdf...\n",
            "GDF file detected\n",
            "Setting channel info structure...\n",
            "Could not determine channel type of the following channels, they will be set as EEG:\n",
            "Fz, FCz, Cz, CPz, Pz, C1, C3, C5, C2, C4, C6, EOG1, EOG2, EOG3, EMGg, EMGd, F4, FC2, FC4, FC6, CP2, CP4, CP6, P4, F3, FC1, FC3, FC5, CP1, CP3, CP5, P3\n",
            "Creating raw.info structure...\n",
            "Reading 0 ... 95775  =      0.000 ...   187.061 secs...\n"
          ]
        }
      ]
    },
    {
      "cell_type": "code",
      "source": [
        "# Normalize the data\n",
        "data = raw.get_data()\n",
        "data_mean = np.mean(data, axis=1, keepdims=True)\n",
        "data_std = np.std(data, axis=1, keepdims=True)\n",
        "normalized_data = (data - data_mean) / data_std"
      ],
      "metadata": {
        "id": "KuT6KyoB7BjJ"
      },
      "execution_count": 5,
      "outputs": []
    },
    {
      "cell_type": "code",
      "source": [
        "# Update the raw object with normalized data\n",
        "raw._data = normalized_data"
      ],
      "metadata": {
        "id": "zNHT3gsn7CkU"
      },
      "execution_count": 6,
      "outputs": []
    },
    {
      "cell_type": "code",
      "source": [
        "# Segment the data into smaller windows (e.g., 2-second windows)\n",
        "window_size = 2  # in seconds\n",
        "sfreq = raw.info['sfreq']  # sampling frequency\n",
        "n_samples = int(window_size * sfreq)"
      ],
      "metadata": {
        "id": "igz9CyiR7DZY"
      },
      "execution_count": 7,
      "outputs": []
    },
    {
      "cell_type": "code",
      "source": [
        "# Create epochs\n",
        "events = mne.make_fixed_length_events(raw, duration=window_size)\n",
        "epochs = mne.Epochs(raw, events, tmin=0, tmax=window_size, baseline=None, preload=True)"
      ],
      "metadata": {
        "colab": {
          "base_uri": "https://localhost:8080/"
        },
        "id": "D9w9DkET7E1l",
        "outputId": "dfcd8641-29f5-4292-9726-1878bb4d4088"
      },
      "execution_count": 8,
      "outputs": [
        {
          "output_type": "stream",
          "name": "stdout",
          "text": [
            "Not setting metadata\n",
            "93 matching events found\n",
            "No baseline correction applied\n",
            "0 projection items activated\n",
            "Using data from preloaded Raw for 93 events and 1025 original time points ...\n",
            "0 bad epochs dropped\n"
          ]
        }
      ]
    },
    {
      "cell_type": "code",
      "execution_count": 9,
      "metadata": {
        "colab": {
          "base_uri": "https://localhost:8080/"
        },
        "id": "JnD9ar3Z65Vn",
        "outputId": "c2bf3336-8bb0-4178-8e9c-e8d5089d51b4"
      },
      "outputs": [
        {
          "output_type": "stream",
          "name": "stdout",
          "text": [
            "Data normalized and segmented into epochs.\n"
          ]
        }
      ],
      "source": [
        "# Save the epochs if needed\n",
        "epochs.save('/content/drive/MyDrive/BCI_Database/gdf/A1_CE_baseline-epo.fif', overwrite=True)\n",
        "\n",
        "print(\"Data normalized and segmented into epochs.\")"
      ]
    },
    {
      "cell_type": "markdown",
      "source": [
        "## Converts each window of the EEG signal into spectrogram images\n",
        "\n",
        "converts each window of the EEG signal into spectrogram images using the matplotlib and scipy libraries."
      ],
      "metadata": {
        "id": "Fir2dYeL7wLN"
      }
    },
    {
      "cell_type": "code",
      "source": [
        "import mne\n",
        "import numpy as np\n",
        "import matplotlib.pyplot as plt\n",
        "from scipy.signal import spectrogram\n",
        "\n",
        "# Load the segmented epochs\n",
        "epochs = mne.read_epochs('/content/drive/MyDrive/BCI_Database/gdf/A1_CE_baseline-epo.fif')\n",
        "\n",
        "# Function to convert a signal to a spectrogram image\n",
        "def signal_to_spectrogram(signal, sfreq, output_path):\n",
        "    f, t, Sxx = spectrogram(signal, fs=sfreq, nperseg=256, noverlap=128)\n",
        "    plt.pcolormesh(t, f, 10 * np.log10(Sxx), shading='gouraud')\n",
        "    plt.ylabel('Frequency [Hz]')\n",
        "    plt.xlabel('Time [sec]')\n",
        "    plt.axis('off')  # Hide axes\n",
        "    plt.savefig(output_path, bbox_inches='tight', pad_inches=0)\n",
        "    plt.close()\n",
        "\n",
        "# Iterate over each epoch and save the spectrogram image\n",
        "for i, epoch in enumerate(epochs):\n",
        "    for ch_idx, ch_data in enumerate(epoch):\n",
        "        output_path = f'/content/drive/MyDrive/BCI_Database/gdf/spectrograms/epoch_{i}_ch_{ch_idx}.png'\n",
        "        signal_to_spectrogram(ch_data, epochs.info['sfreq'], output_path)\n",
        "\n",
        "print(\"Spectrogram images saved for all windows.\")"
      ],
      "metadata": {
        "colab": {
          "base_uri": "https://localhost:8080/"
        },
        "id": "NzQgXFYm7vFP",
        "outputId": "13cac4eb-3b41-416a-b79e-0a6679fbaf5f"
      },
      "execution_count": 11,
      "outputs": [
        {
          "output_type": "stream",
          "name": "stdout",
          "text": [
            "Reading /content/drive/MyDrive/BCI_Database/gdf/A1_CE_baseline-epo.fif ...\n",
            "Isotrak not found\n",
            "    Found the data of interest:\n",
            "        t =       0.00 ...    2000.00 ms\n",
            "        0 CTF compensation matrices available\n",
            "Not setting metadata\n",
            "93 matching events found\n",
            "No baseline correction applied\n",
            "0 projection items activated\n",
            "Spectrogram images saved for all windows.\n"
          ]
        }
      ]
    }
  ]
}