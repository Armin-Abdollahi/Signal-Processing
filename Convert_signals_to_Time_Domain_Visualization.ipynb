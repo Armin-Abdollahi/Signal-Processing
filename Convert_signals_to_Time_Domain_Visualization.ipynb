{
  "nbformat": 4,
  "nbformat_minor": 0,
  "metadata": {
    "colab": {
      "provenance": [],
      "authorship_tag": "ABX9TyO4xKwaMrqqOmg8imQ57J3Z",
      "include_colab_link": true
    },
    "kernelspec": {
      "name": "python3",
      "display_name": "Python 3"
    },
    "language_info": {
      "name": "python"
    }
  },
  "cells": [
    {
      "cell_type": "markdown",
      "metadata": {
        "id": "view-in-github",
        "colab_type": "text"
      },
      "source": [
        "<a href=\"https://colab.research.google.com/github/Armin-Abdollahi/Signal-Processing/blob/main/Convert_signals_to_Time_Domain_Visualization.ipynb\" target=\"_parent\"><img src=\"https://colab.research.google.com/assets/colab-badge.svg\" alt=\"Open In Colab\"/></a>"
      ]
    },
    {
      "cell_type": "markdown",
      "source": [
        "## Time-Domain Visualization\n",
        "\n",
        "Time-domain visualization is a way of representing and analyzing signals by plotting the signal's amplitude (y-axis) against time (x-axis).\n",
        "\n",
        "### Characteristics of Time-Domain Visualization\n",
        "\n",
        "- Displays how the signal changes over time\n",
        "- Amplitude is typically plotted on the y-axis and time on the x-axis\n",
        "- Useful for analyzing transient responses, wave propagation, and energy flow in circuits and systems\n",
        "- Commonly used with oscilloscopes to view real-world signals in the time domain\n",
        "\n",
        "### Advantages of Time-Domain Analysis\n",
        "\n",
        "- Provides insight into the flow of mechanical and electrical energies in a system\n",
        "- Enables separation of desired signals from extraneous signals like reflections and noise based on timing\n",
        "- Useful for circuit designs with antennas where stray signals need to be identified"
      ],
      "metadata": {
        "id": "CmR_wdwJDEh_"
      }
    },
    {
      "cell_type": "code",
      "source": [
        "from google.colab import drive\n",
        "drive.mount('/content/drive')"
      ],
      "metadata": {
        "colab": {
          "base_uri": "https://localhost:8080/"
        },
        "id": "n17xbyxMMm37",
        "outputId": "9255064d-e872-4095-8b91-9d61f34086a6"
      },
      "execution_count": 10,
      "outputs": [
        {
          "output_type": "stream",
          "name": "stdout",
          "text": [
            "Drive already mounted at /content/drive; to attempt to forcibly remount, call drive.mount(\"/content/drive\", force_remount=True).\n"
          ]
        }
      ]
    },
    {
      "cell_type": "code",
      "source": [
        "!pip install --upgrade mne"
      ],
      "metadata": {
        "colab": {
          "base_uri": "https://localhost:8080/"
        },
        "id": "OAdstaBgMoD1",
        "outputId": "39429a17-7453-4073-f92e-196fa7071bee"
      },
      "execution_count": 11,
      "outputs": [
        {
          "output_type": "stream",
          "name": "stdout",
          "text": [
            "Requirement already satisfied: mne in /usr/local/lib/python3.10/dist-packages (1.8.0)\n",
            "Requirement already satisfied: decorator in /usr/local/lib/python3.10/dist-packages (from mne) (4.4.2)\n",
            "Requirement already satisfied: jinja2 in /usr/local/lib/python3.10/dist-packages (from mne) (3.1.4)\n",
            "Requirement already satisfied: lazy-loader>=0.3 in /usr/local/lib/python3.10/dist-packages (from mne) (0.4)\n",
            "Requirement already satisfied: matplotlib>=3.6 in /usr/local/lib/python3.10/dist-packages (from mne) (3.7.1)\n",
            "Requirement already satisfied: numpy<3,>=1.23 in /usr/local/lib/python3.10/dist-packages (from mne) (1.26.4)\n",
            "Requirement already satisfied: packaging in /usr/local/lib/python3.10/dist-packages (from mne) (24.1)\n",
            "Requirement already satisfied: pooch>=1.5 in /usr/local/lib/python3.10/dist-packages (from mne) (1.8.2)\n",
            "Requirement already satisfied: scipy>=1.9 in /usr/local/lib/python3.10/dist-packages (from mne) (1.13.1)\n",
            "Requirement already satisfied: tqdm in /usr/local/lib/python3.10/dist-packages (from mne) (4.66.5)\n",
            "Requirement already satisfied: contourpy>=1.0.1 in /usr/local/lib/python3.10/dist-packages (from matplotlib>=3.6->mne) (1.2.1)\n",
            "Requirement already satisfied: cycler>=0.10 in /usr/local/lib/python3.10/dist-packages (from matplotlib>=3.6->mne) (0.12.1)\n",
            "Requirement already satisfied: fonttools>=4.22.0 in /usr/local/lib/python3.10/dist-packages (from matplotlib>=3.6->mne) (4.53.1)\n",
            "Requirement already satisfied: kiwisolver>=1.0.1 in /usr/local/lib/python3.10/dist-packages (from matplotlib>=3.6->mne) (1.4.5)\n",
            "Requirement already satisfied: pillow>=6.2.0 in /usr/local/lib/python3.10/dist-packages (from matplotlib>=3.6->mne) (9.4.0)\n",
            "Requirement already satisfied: pyparsing>=2.3.1 in /usr/local/lib/python3.10/dist-packages (from matplotlib>=3.6->mne) (3.1.2)\n",
            "Requirement already satisfied: python-dateutil>=2.7 in /usr/local/lib/python3.10/dist-packages (from matplotlib>=3.6->mne) (2.8.2)\n",
            "Requirement already satisfied: platformdirs>=2.5.0 in /usr/local/lib/python3.10/dist-packages (from pooch>=1.5->mne) (4.2.2)\n",
            "Requirement already satisfied: requests>=2.19.0 in /usr/local/lib/python3.10/dist-packages (from pooch>=1.5->mne) (2.32.3)\n",
            "Requirement already satisfied: MarkupSafe>=2.0 in /usr/local/lib/python3.10/dist-packages (from jinja2->mne) (2.1.5)\n",
            "Requirement already satisfied: six>=1.5 in /usr/local/lib/python3.10/dist-packages (from python-dateutil>=2.7->matplotlib>=3.6->mne) (1.16.0)\n",
            "Requirement already satisfied: charset-normalizer<4,>=2 in /usr/local/lib/python3.10/dist-packages (from requests>=2.19.0->pooch>=1.5->mne) (3.3.2)\n",
            "Requirement already satisfied: idna<4,>=2.5 in /usr/local/lib/python3.10/dist-packages (from requests>=2.19.0->pooch>=1.5->mne) (3.7)\n",
            "Requirement already satisfied: urllib3<3,>=1.21.1 in /usr/local/lib/python3.10/dist-packages (from requests>=2.19.0->pooch>=1.5->mne) (2.0.7)\n",
            "Requirement already satisfied: certifi>=2017.4.17 in /usr/local/lib/python3.10/dist-packages (from requests>=2.19.0->pooch>=1.5->mne) (2024.7.4)\n"
          ]
        }
      ]
    },
    {
      "cell_type": "code",
      "source": [
        "import numpy as np\n",
        "import matplotlib.pyplot as plt\n",
        "import mne"
      ],
      "metadata": {
        "id": "6-rvJb6MMpD9"
      },
      "execution_count": 12,
      "outputs": []
    },
    {
      "cell_type": "code",
      "source": [
        "# Load the EEG data\n",
        "raw = mne.io.read_raw_gdf('/content/drive/MyDrive/BCI_Database/gdf/A1_CE_baseline.gdf', preload=True)"
      ],
      "metadata": {
        "colab": {
          "base_uri": "https://localhost:8080/"
        },
        "id": "uHyEhY52MqZq",
        "outputId": "898c5364-f88d-448e-927d-3537d7bc4e9f"
      },
      "execution_count": 13,
      "outputs": [
        {
          "output_type": "stream",
          "name": "stdout",
          "text": [
            "Extracting EDF parameters from /content/drive/MyDrive/BCI_Database/gdf/A1_CE_baseline.gdf...\n",
            "GDF file detected\n",
            "Setting channel info structure...\n",
            "Could not determine channel type of the following channels, they will be set as EEG:\n",
            "Fz, FCz, Cz, CPz, Pz, C1, C3, C5, C2, C4, C6, EOG1, EOG2, EOG3, EMGg, EMGd, F4, FC2, FC4, FC6, CP2, CP4, CP6, P4, F3, FC1, FC3, FC5, CP1, CP3, CP5, P3\n",
            "Creating raw.info structure...\n",
            "Reading 0 ... 95775  =      0.000 ...   187.061 secs...\n"
          ]
        }
      ]
    },
    {
      "cell_type": "code",
      "source": [
        "# Select only EEG channels\n",
        "raw.pick_types(meg=False, eeg=True, eog=False, exclude='bads')"
      ],
      "metadata": {
        "colab": {
          "base_uri": "https://localhost:8080/",
          "height": 415
        },
        "id": "n_E3COoQMrqu",
        "outputId": "b419f1bb-586d-41e6-dc86-6cb5d8900077"
      },
      "execution_count": 14,
      "outputs": [
        {
          "output_type": "stream",
          "name": "stdout",
          "text": [
            "NOTE: pick_types() is a legacy function. New code should use inst.pick(...).\n"
          ]
        },
        {
          "output_type": "execute_result",
          "data": {
            "text/plain": [
              "<RawGDF | A1_CE_baseline.gdf, 32 x 95776 (187.1 s), ~23.4 MB, data loaded>"
            ],
            "text/html": [
              "<script type=\"text/javascript\">\n",
              "    const toggleVisibility = (className) => {\n",
              "\n",
              "  const elements = document.querySelectorAll(`.${className}`)\n",
              "\n",
              "  elements.forEach(element => {\n",
              "    if (element.classList.contains('repr-section-header')) {\n",
              "      // Don't collapse the section header row.\n",
              "       return\n",
              "    }\n",
              "    if (element.classList.contains('repr-element-collapsed')) {\n",
              "      // Force a reflow to ensure the display change takes effect before removing the class\n",
              "      element.classList.remove('repr-element-collapsed')\n",
              "      element.offsetHeight // This forces the browser to recalculate layout\n",
              "      element.classList.remove('repr-element-faded')\n",
              "    } else {\n",
              "      // Start transition to hide the element\n",
              "      element.classList.add('repr-element-faded')\n",
              "      element.addEventListener('transitionend', handler = (e) => {\n",
              "        if (e.propertyName === 'opacity' && getComputedStyle(element).opacity === '0.2') {\n",
              "          element.classList.add('repr-element-collapsed')\n",
              "          element.removeEventListener('transitionend', handler)\n",
              "        }\n",
              "      });\n",
              "    }\n",
              "  });\n",
              "\n",
              "  // Take care of button (adjust caret)\n",
              "  const button = document.querySelectorAll(`.repr-section-header.${className} > th.repr-section-toggle-col > button`)[0]\n",
              "  button.classList.toggle('collapsed')\n",
              "\n",
              "  // Take care of the tooltip of the section header row\n",
              "  const sectionHeaderRow = document.querySelectorAll(`tr.repr-section-header.${className}`)[0]\n",
              "  sectionHeaderRow.classList.toggle('collapsed')\n",
              "  sectionHeaderRow.title = sectionHeaderRow.title === 'Hide section' ? 'Show section' : 'Hide section'\n",
              "}\n",
              "</script>\n",
              "\n",
              "<style type=\"text/css\">\n",
              "    table.repr.table.table-hover.table-striped.table-sm.table-responsive.small {\n",
              "  /* Don't make rows wider than they need to be. */\n",
              "  display: inline;\n",
              "}\n",
              "\n",
              "table > tbody > tr.repr-element > td {\n",
              "  /* Apply a tighter layout to the table cells. */\n",
              "  padding-top: 0.1rem;\n",
              "  padding-bottom: 0.1rem;\n",
              "  padding-right: 1rem;\n",
              "}\n",
              "\n",
              "table > tbody > tr > td.repr-section-toggle-col {\n",
              "  /* Remove background and border of the first cell in every row\n",
              "     (this row is only used for the collapse / uncollapse caret)\n",
              "\n",
              "     TODO: Need to find a good solution for VS Code that works in both\n",
              "           light and dark mode. */\n",
              "  border-color: transparent;\n",
              "  --bs-table-accent-bg: transparent;\n",
              "}\n",
              "\n",
              "tr.repr-section-header {\n",
              "  /* Remove stripes from section header rows */\n",
              "  background-color: transparent;\n",
              "  border-color: transparent;\n",
              "  --bs-table-striped-bg: transparent;\n",
              "  cursor: pointer;\n",
              "}\n",
              "\n",
              "tr.repr-section-header > th {\n",
              "  text-align: left !important;\n",
              "  vertical-align: middle;\n",
              "}\n",
              "\n",
              ".repr-element, tr.repr-element > td {\n",
              "  opacity: 1;\n",
              "  text-align: left !important;\n",
              "}\n",
              "\n",
              ".repr-element-faded {\n",
              "  transition: 0.3s ease;\n",
              "  opacity: 0.2;\n",
              "}\n",
              "\n",
              ".repr-element-collapsed {\n",
              "  display: none;\n",
              "}\n",
              "\n",
              "/* Collapse / uncollapse button and the caret it contains. */\n",
              ".repr-section-toggle-col button {\n",
              "  cursor: pointer;\n",
              "  width: 1rem;\n",
              "  background-color: transparent;\n",
              "  border-color: transparent;\n",
              "}\n",
              "\n",
              "span.collapse-uncollapse-caret {\n",
              "  width: 1rem;\n",
              "  height: 1rem;\n",
              "  display: block;\n",
              "  background-repeat: no-repeat;\n",
              "  background-position: left;\n",
              "  background-size: contain;\n",
              "}\n",
              "\n",
              "/* The collapse / uncollapse carets were copied from the free Font Awesome collection and adjusted. */\n",
              "\n",
              "/* Default to black carets for light mode */\n",
              ".repr-section-toggle-col > button.collapsed > span.collapse-uncollapse-caret {\n",
              "  background-image: url('data:image/svg+xml;charset=utf8,<svg xmlns=\"http://www.w3.org/2000/svg\" viewBox=\"0 0 256 512\"><!--!Font Awesome Free 6.5.2 by @fontawesome - https://fontawesome.com License - https://fontawesome.com/license/free Copyright 2024 Fonticons, Inc.--><path fill=\"black\" d=\"M246.6 278.6c12.5-12.5 12.5-32.8 0-45.3l-128-128c-9.2-9.2-22.9-11.9-34.9-6.9s-19.8 16.6-19.8 29.6l0 256c0 12.9 7.8 24.6 19.8 29.6s25.7 2.2 34.9-6.9l128-128z\"/></svg>');\n",
              "}\n",
              "\n",
              ".repr-section-toggle-col\n",
              "  > button:not(.collapsed)\n",
              "  > span.collapse-uncollapse-caret {\n",
              "  background-image: url('data:image/svg+xml;charset=utf8,<svg xmlns=\"http://www.w3.org/2000/svg\" viewBox=\"0 0 320 512\"><!--!Font Awesome Free 6.5.2 by @fontawesome - https://fontawesome.com License - https://fontawesome.com/license/free Copyright 2024 Fonticons, Inc.--><path fill=\"black\" d=\"M137.4 374.6c12.5 12.5 32.8 12.5 45.3 0l128-128c9.2-9.2 11.9-22.9 6.9-34.9s-16.6-19.8-29.6-19.8L32 192c-12.9 0-24.6 7.8-29.6 19.8s-2.2 25.7 6.9 34.9l128 128z\"/></svg>');\n",
              "}\n",
              "\n",
              "/* Use white carets for dark mode */\n",
              "@media (prefers-color-scheme: dark) {\n",
              "  .repr-section-toggle-col > button.collapsed > span.collapse-uncollapse-caret {\n",
              "    background-image: url('data:image/svg+xml;charset=utf8,<svg xmlns=\"http://www.w3.org/2000/svg\" viewBox=\"0 0 256 512\"><!--!Font Awesome Free 6.5.2 by @fontawesome - https://fontawesome.com License - https://fontawesome.com/license/free Copyright 2024 Fonticons, Inc.--><path fill=\"white\" d=\"M246.6 278.6c12.5-12.5 12.5-32.8 0-45.3l-128-128c-9.2-9.2-22.9-11.9-34.9-6.9s-19.8 16.6-19.8 29.6l0 256c0 12.9 7.8 24.6 19.8 29.6s25.7 2.2 34.9-6.9l128-128z\"/></svg>');\n",
              "  }\n",
              "\n",
              "  .repr-section-toggle-col\n",
              "    > button:not(.collapsed)\n",
              "    > span.collapse-uncollapse-caret {\n",
              "    background-image: url('data:image/svg+xml;charset=utf8,<svg xmlns=\"http://www.w3.org/2000/svg\" viewBox=\"0 0 320 512\"><!--!Font Awesome Free 6.5.2 by @fontawesome - https://fontawesome.com License - https://fontawesome.com/license/free Copyright 2024 Fonticons, Inc.--><path fill=\"white\" d=\"M137.4 374.6c12.5 12.5 32.8 12.5 45.3 0l128-128c9.2-9.2 11.9-22.9 6.9-34.9s-16.6-19.8-29.6-19.8L32 192c-12.9 0-24.6 7.8-29.6 19.8s-2.2 25.7 6.9 34.9l128 128z\"/></svg>');\n",
              "  }\n",
              "}\n",
              "\n",
              ".channel-names-btn {\n",
              "  padding: 0;\n",
              "  border: none;\n",
              "  background: none;\n",
              "  text-decoration: underline;\n",
              "  text-decoration-style: dashed;\n",
              "  cursor: pointer;\n",
              "  color: #0d6efd;\n",
              "}\n",
              "\n",
              ".channel-names-btn:hover {\n",
              "  color: #0a58ca;\n",
              "}\n",
              "</style>\n",
              "\n",
              "\n",
              "\n",
              "<table class=\"repr table table-hover table-striped table-sm table-responsive small\">\n",
              "    \n",
              "\n",
              "\n",
              "\n",
              "\n",
              "\n",
              "\n",
              "\n",
              "<tr class=\"repr-section-header general-9ed67dcb-dcb9-44b6-9d1c-192096c83d36\"  title=\"Hide section\" \n",
              "    onclick=\"toggleVisibility('general-9ed67dcb-dcb9-44b6-9d1c-192096c83d36')\">\n",
              "    <th class=\"repr-section-toggle-col\">\n",
              "        <button>\n",
              "            \n",
              "            <span class=\"collapse-uncollapse-caret\"></span>\n",
              "        </button>\n",
              "    </th>\n",
              "    <th colspan=\"2\">\n",
              "        <strong>General</strong>\n",
              "    </th>\n",
              "</tr>\n",
              "\n",
              "<tr class=\"repr-element general-9ed67dcb-dcb9-44b6-9d1c-192096c83d36 \">\n",
              "    <td class=\"repr-section-toggle-col\"></td>\n",
              "    <td>Filename(s)</td>\n",
              "    <td>\n",
              "        \n",
              "        A1_CE_baseline.gdf\n",
              "        \n",
              "        \n",
              "    </td>\n",
              "</tr>\n",
              "\n",
              "<tr class=\"repr-element general-9ed67dcb-dcb9-44b6-9d1c-192096c83d36 \">\n",
              "    <td class=\"repr-section-toggle-col\"></td>\n",
              "    <td>MNE object type</td>\n",
              "    <td>RawGDF</td>\n",
              "</tr>\n",
              "<tr class=\"repr-element general-9ed67dcb-dcb9-44b6-9d1c-192096c83d36 \">\n",
              "    <td class=\"repr-section-toggle-col\"></td>\n",
              "    <td>Measurement date</td>\n",
              "    \n",
              "    <td>Unknown</td>\n",
              "    \n",
              "</tr>\n",
              "<tr class=\"repr-element general-9ed67dcb-dcb9-44b6-9d1c-192096c83d36 \">\n",
              "    <td class=\"repr-section-toggle-col\"></td>\n",
              "    <td>Participant</td>\n",
              "    \n",
              "    \n",
              "    <td>0x00000000</td>\n",
              "    \n",
              "    \n",
              "</tr>\n",
              "<tr class=\"repr-element general-9ed67dcb-dcb9-44b6-9d1c-192096c83d36 \">\n",
              "    <td class=\"repr-section-toggle-col\"></td>\n",
              "    <td>Experimenter</td>\n",
              "    \n",
              "    <td>Unknown</td>\n",
              "    \n",
              "</tr>\n",
              "    \n",
              "\n",
              "\n",
              "\n",
              "\n",
              "\n",
              "\n",
              "\n",
              "<tr class=\"repr-section-header acquisition-24a0a74c-b280-4f43-8f04-8d1a881cceba\" \n",
              "    title=\"Hide section\"  onclick=\"toggleVisibility('acquisition-24a0a74c-b280-4f43-8f04-8d1a881cceba')\">\n",
              "    <th class=\"repr-section-toggle-col\">\n",
              "        <button>\n",
              "            \n",
              "            <span class=\"collapse-uncollapse-caret\"></span>\n",
              "        </button>\n",
              "    </th>\n",
              "    <th colspan=\"2\">\n",
              "        <strong>Acquisition</strong>\n",
              "    </th>\n",
              "</tr>\n",
              "\n",
              "<tr class=\"repr-element acquisition-24a0a74c-b280-4f43-8f04-8d1a881cceba \">\n",
              "    <td class=\"repr-section-toggle-col\"></td>\n",
              "    <td>Duration</td>\n",
              "    <td>00:03:08 (HH:MM:SS)</td>\n",
              "</tr>\n",
              "\n",
              "\n",
              "\n",
              "\n",
              "\n",
              "\n",
              "\n",
              "\n",
              "<tr class=\"repr-element acquisition-24a0a74c-b280-4f43-8f04-8d1a881cceba \">\n",
              "    <td class=\"repr-section-toggle-col\"></td>\n",
              "    <td>Sampling frequency</td>\n",
              "    <td>512.00 Hz</td>\n",
              "</tr>\n",
              "\n",
              "\n",
              "<tr class=\"repr-element acquisition-24a0a74c-b280-4f43-8f04-8d1a881cceba \">\n",
              "    <td class=\"repr-section-toggle-col\"></td>\n",
              "    <td>Time points</td>\n",
              "    <td>95,776</td>\n",
              "</tr>\n",
              "\n",
              "\n",
              "    \n",
              "\n",
              "\n",
              "\n",
              "\n",
              "\n",
              "\n",
              "\n",
              "<tr class=\"repr-section-header channels-317a1687-5929-43b7-846b-07c7d7fd738e\"  title=\"Hide section\" \n",
              "    onclick=\"toggleVisibility('channels-317a1687-5929-43b7-846b-07c7d7fd738e')\">\n",
              "    <th class=\"repr-section-toggle-col\">\n",
              "        <button>\n",
              "            \n",
              "            <span class=\"collapse-uncollapse-caret\"></span>\n",
              "        </button>\n",
              "    </th>\n",
              "    <th colspan=\"2\">\n",
              "        <strong>Channels</strong>\n",
              "    </th>\n",
              "</tr>\n",
              "\n",
              "\n",
              "<tr class=\"repr-element channels-317a1687-5929-43b7-846b-07c7d7fd738e \">\n",
              "    <td class=\"repr-section-toggle-col\"></td>\n",
              "    <td>EEG</td>\n",
              "    <td>\n",
              "        <button class=\"channel-names-btn\" onclick=\"alert('Good EEG:\\n\\nFz, FCz, Cz, CPz, Pz, C1, C3, C5, C2, C4, C6, EOG1, EOG2, EOG3, EMGg, EMGd, F4, FC2, FC4, FC6, CP2, CP4, CP6, P4, F3, FC1, FC3, FC5, CP1, CP3, CP5, P3')\" title=\"(Click to open in popup)&#13;&#13;Fz, FCz, Cz, CPz, Pz, C1, C3, C5, C2, C4, C6, EOG1, EOG2, EOG3, EMGg, EMGd, F4, FC2, FC4, FC6, CP2, CP4, CP6, P4, F3, FC1, FC3, FC5, CP1, CP3, CP5, P3\">\n",
              "            32\n",
              "        </button>\n",
              "\n",
              "        \n",
              "    </td>\n",
              "</tr>\n",
              "\n",
              "\n",
              "<tr class=\"repr-element channels-317a1687-5929-43b7-846b-07c7d7fd738e \">\n",
              "    <td class=\"repr-section-toggle-col\"></td>\n",
              "    <td>Head & sensor digitization</td>\n",
              "    \n",
              "    <td>Not available</td>\n",
              "    \n",
              "</tr>\n",
              "    \n",
              "\n",
              "\n",
              "\n",
              "\n",
              "\n",
              "\n",
              "\n",
              "<tr class=\"repr-section-header filters-eb693b64-cf07-42bc-9396-258752455c9a\"  title=\"Hide section\" \n",
              "    onclick=\"toggleVisibility('filters-eb693b64-cf07-42bc-9396-258752455c9a')\">\n",
              "    <th class=\"repr-section-toggle-col\">\n",
              "        <button>\n",
              "            \n",
              "            <span class=\"collapse-uncollapse-caret\"></span>\n",
              "        </button>\n",
              "    </th>\n",
              "    <th colspan=\"2\">\n",
              "        <strong>Filters</strong>\n",
              "    </th>\n",
              "</tr>\n",
              "\n",
              "<tr class=\"repr-element filters-eb693b64-cf07-42bc-9396-258752455c9a \">\n",
              "    <td class=\"repr-section-toggle-col\"></td>\n",
              "    <td>Highpass</td>\n",
              "    <td>0.00 Hz</td>\n",
              "</tr>\n",
              "\n",
              "\n",
              "<tr class=\"repr-element filters-eb693b64-cf07-42bc-9396-258752455c9a \">\n",
              "    <td class=\"repr-section-toggle-col\"></td>\n",
              "    <td>Lowpass</td>\n",
              "    <td>256.00 Hz</td>\n",
              "</tr>\n",
              "\n",
              "\n",
              "</table>"
            ]
          },
          "metadata": {},
          "execution_count": 14
        }
      ]
    },
    {
      "cell_type": "code",
      "source": [
        "# Extract data and times\n",
        "data, times = raw[:]"
      ],
      "metadata": {
        "id": "_vOy8mHPMtBm"
      },
      "execution_count": 15,
      "outputs": []
    },
    {
      "cell_type": "code",
      "source": [
        "# Select the data for a single channel, e.g., the first EEG channel\n",
        "channel_data = data[0]"
      ],
      "metadata": {
        "id": "L-gLiooGMuko"
      },
      "execution_count": 16,
      "outputs": []
    },
    {
      "cell_type": "code",
      "source": [
        "# Plot the time-domain signal\n",
        "plt.figure(figsize=(15, 5))\n",
        "plt.plot(times, channel_data)\n",
        "plt.title('EEG Signal in Time Domain')\n",
        "plt.xlabel('Time [sec]')\n",
        "plt.ylabel('Amplitude [µV]')\n",
        "plt.grid(True)\n",
        "plt.show()"
      ],
      "metadata": {
        "colab": {
          "base_uri": "https://localhost:8080/",
          "height": 286
        },
        "id": "QjUZVxzwMlJp",
        "outputId": "23690de5-ae45-4d83-fa8e-956705305066"
      },
      "execution_count": 17,
      "outputs": [
        {
          "output_type": "display_data",
          "data": {
            "text/plain": [
              "<Figure size 1500x500 with 1 Axes>"
            ],
            "image/png": "[encoded data removed]"
          },
          "metadata": {}
        }
      ]
    },
    {
      "cell_type": "markdown",
      "source": [
        "### Using the MNE library to visualize time-domain signals for all .gdf files in a specified folder and then saves the plots to a specified output folder"
      ],
      "metadata": {
        "id": "hgzzYBMiMw9T"
      }
    },
    {
      "cell_type": "code",
      "execution_count": 18,
      "metadata": {
        "colab": {
          "base_uri": "https://localhost:8080/"
        },
        "id": "LcQhdq9jDBp-",
        "outputId": "d7c10459-072e-4a49-89b0-afa598cb41e6"
      },
      "outputs": [
        {
          "output_type": "stream",
          "name": "stdout",
          "text": [
            "Drive already mounted at /content/drive; to attempt to forcibly remount, call drive.mount(\"/content/drive\", force_remount=True).\n"
          ]
        }
      ],
      "source": [
        "from google.colab import drive\n",
        "drive.mount('/content/drive')"
      ]
    },
    {
      "cell_type": "code",
      "source": [
        "!pip install --upgrade mne"
      ],
      "metadata": {
        "colab": {
          "base_uri": "https://localhost:8080/"
        },
        "id": "ynwn6F-mDIiD",
        "outputId": "e7e8cc06-c5ab-45ff-d10a-200d3c417b36"
      },
      "execution_count": 19,
      "outputs": [
        {
          "output_type": "stream",
          "name": "stdout",
          "text": [
            "Requirement already satisfied: mne in /usr/local/lib/python3.10/dist-packages (1.8.0)\n",
            "Requirement already satisfied: decorator in /usr/local/lib/python3.10/dist-packages (from mne) (4.4.2)\n",
            "Requirement already satisfied: jinja2 in /usr/local/lib/python3.10/dist-packages (from mne) (3.1.4)\n",
            "Requirement already satisfied: lazy-loader>=0.3 in /usr/local/lib/python3.10/dist-packages (from mne) (0.4)\n",
            "Requirement already satisfied: matplotlib>=3.6 in /usr/local/lib/python3.10/dist-packages (from mne) (3.7.1)\n",
            "Requirement already satisfied: numpy<3,>=1.23 in /usr/local/lib/python3.10/dist-packages (from mne) (1.26.4)\n",
            "Requirement already satisfied: packaging in /usr/local/lib/python3.10/dist-packages (from mne) (24.1)\n",
            "Requirement already satisfied: pooch>=1.5 in /usr/local/lib/python3.10/dist-packages (from mne) (1.8.2)\n",
            "Requirement already satisfied: scipy>=1.9 in /usr/local/lib/python3.10/dist-packages (from mne) (1.13.1)\n",
            "Requirement already satisfied: tqdm in /usr/local/lib/python3.10/dist-packages (from mne) (4.66.5)\n",
            "Requirement already satisfied: contourpy>=1.0.1 in /usr/local/lib/python3.10/dist-packages (from matplotlib>=3.6->mne) (1.2.1)\n",
            "Requirement already satisfied: cycler>=0.10 in /usr/local/lib/python3.10/dist-packages (from matplotlib>=3.6->mne) (0.12.1)\n",
            "Requirement already satisfied: fonttools>=4.22.0 in /usr/local/lib/python3.10/dist-packages (from matplotlib>=3.6->mne) (4.53.1)\n",
            "Requirement already satisfied: kiwisolver>=1.0.1 in /usr/local/lib/python3.10/dist-packages (from matplotlib>=3.6->mne) (1.4.5)\n",
            "Requirement already satisfied: pillow>=6.2.0 in /usr/local/lib/python3.10/dist-packages (from matplotlib>=3.6->mne) (9.4.0)\n",
            "Requirement already satisfied: pyparsing>=2.3.1 in /usr/local/lib/python3.10/dist-packages (from matplotlib>=3.6->mne) (3.1.2)\n",
            "Requirement already satisfied: python-dateutil>=2.7 in /usr/local/lib/python3.10/dist-packages (from matplotlib>=3.6->mne) (2.8.2)\n",
            "Requirement already satisfied: platformdirs>=2.5.0 in /usr/local/lib/python3.10/dist-packages (from pooch>=1.5->mne) (4.2.2)\n",
            "Requirement already satisfied: requests>=2.19.0 in /usr/local/lib/python3.10/dist-packages (from pooch>=1.5->mne) (2.32.3)\n",
            "Requirement already satisfied: MarkupSafe>=2.0 in /usr/local/lib/python3.10/dist-packages (from jinja2->mne) (2.1.5)\n",
            "Requirement already satisfied: six>=1.5 in /usr/local/lib/python3.10/dist-packages (from python-dateutil>=2.7->matplotlib>=3.6->mne) (1.16.0)\n",
            "Requirement already satisfied: charset-normalizer<4,>=2 in /usr/local/lib/python3.10/dist-packages (from requests>=2.19.0->pooch>=1.5->mne) (3.3.2)\n",
            "Requirement already satisfied: idna<4,>=2.5 in /usr/local/lib/python3.10/dist-packages (from requests>=2.19.0->pooch>=1.5->mne) (3.7)\n",
            "Requirement already satisfied: urllib3<3,>=1.21.1 in /usr/local/lib/python3.10/dist-packages (from requests>=2.19.0->pooch>=1.5->mne) (2.0.7)\n",
            "Requirement already satisfied: certifi>=2017.4.17 in /usr/local/lib/python3.10/dist-packages (from requests>=2.19.0->pooch>=1.5->mne) (2024.7.4)\n"
          ]
        }
      ]
    },
    {
      "cell_type": "code",
      "source": [
        "import os\n",
        "import mne\n",
        "import matplotlib.pyplot as plt"
      ],
      "metadata": {
        "id": "BNCyaQnADKQZ"
      },
      "execution_count": 20,
      "outputs": []
    },
    {
      "cell_type": "code",
      "source": [
        "# Define the folder containing the .gdf files and the folder to save the plots\n",
        "input_folder_path = '/content/drive/MyDrive/BCI_Database/gdf'\n",
        "output_folder_path = '/content/drive/MyDrive/BCI_Database/gdf/Time_Domain_Visualization_Images/'"
      ],
      "metadata": {
        "id": "gHdtuAdwDMP7"
      },
      "execution_count": 21,
      "outputs": []
    },
    {
      "cell_type": "code",
      "source": [
        "# Ensure the output folder exists\n",
        "os.makedirs(output_folder_path, exist_ok=True)"
      ],
      "metadata": {
        "id": "PAHGnX9gDTVa"
      },
      "execution_count": 22,
      "outputs": []
    },
    {
      "cell_type": "code",
      "source": [
        "# Loop through all files in the input folder\n",
        "for filename in os.listdir(input_folder_path):\n",
        "    if filename.endswith('.gdf'):\n",
        "        # Construct the full file path\n",
        "        file_path = os.path.join(input_folder_path, filename)\n",
        "\n",
        "        # Load the .gdf file\n",
        "        raw = mne.io.read_raw_gdf(file_path, preload=True)\n",
        "\n",
        "        # Extract data from the raw object\n",
        "        data = raw.get_data()\n",
        "        times = raw.times\n",
        "\n",
        "        # Loop through each channel in the data\n",
        "        for i, channel_data in enumerate(data):\n",
        "            # Plot the time-domain signal\n",
        "            plt.figure(figsize=(10, 4))\n",
        "            plt.plot(times, channel_data)\n",
        "            plt.xlabel('Time (s)')\n",
        "            plt.ylabel('Amplitude')\n",
        "            plt.title(f'Time-Domain Signal - {filename} - Channel {i}')\n",
        "\n",
        "            # Save the plot as an image\n",
        "            plot_file_path = os.path.join(output_folder_path, f'time_domain_{filename}_channel_{i}.png')\n",
        "            plt.savefig(plot_file_path)\n",
        "            plt.close()\n",
        "\n",
        "        print(f'Time-domain plots created and saved for {filename} in {output_folder_path}')\n",
        "\n",
        "print('Time-domain visualization complete for all .gdf files in the folder.')"
      ],
      "metadata": {
        "colab": {
          "base_uri": "https://localhost:8080/"
        },
        "id": "ZdzLFZI7IEst",
        "outputId": "422ee044-3d7c-4745-a7d9-721ccc1aea06"
      },
      "execution_count": 23,
      "outputs": [
        {
          "output_type": "stream",
          "name": "stdout",
          "text": [
            "Extracting EDF parameters from /content/drive/MyDrive/BCI_Database/gdf/A1_CE_baseline.gdf...\n",
            "GDF file detected\n",
            "Setting channel info structure...\n",
            "Could not determine channel type of the following channels, they will be set as EEG:\n",
            "Fz, FCz, Cz, CPz, Pz, C1, C3, C5, C2, C4, C6, EOG1, EOG2, EOG3, EMGg, EMGd, F4, FC2, FC4, FC6, CP2, CP4, CP6, P4, F3, FC1, FC3, FC5, CP1, CP3, CP5, P3\n",
            "Creating raw.info structure...\n",
            "Reading 0 ... 95775  =      0.000 ...   187.061 secs...\n",
            "Time-domain plots created and saved for A1_CE_baseline.gdf in /content/drive/MyDrive/BCI_Database/gdf/Time_Domain_Visualization_Images/\n",
            "Extracting EDF parameters from /content/drive/MyDrive/BCI_Database/gdf/C85_R2_acquisition.gdf...\n",
            "GDF file detected\n",
            "Setting channel info structure...\n",
            "Could not determine channel type of the following channels, they will be set as EEG:\n",
            "Fz, FCz, Cz, CPz, Pz, C1, C3, C5, C2, C4, C6, EOG1, EOG2, EOG3, EMGg, EMGd, F4, FC2, FC4, FC6, CP2, CP4, CP6, P4, F3, FC1, FC3, FC5, CP1, CP3, CP5, P3\n",
            "Creating raw.info structure...\n",
            "Reading 0 ... 230431  =      0.000 ...   450.061 secs...\n",
            "Time-domain plots created and saved for C85_R2_acquisition.gdf in /content/drive/MyDrive/BCI_Database/gdf/Time_Domain_Visualization_Images/\n",
            "Extracting EDF parameters from /content/drive/MyDrive/BCI_Database/gdf/A4_R3_onlineT.gdf...\n",
            "GDF file detected\n",
            "Setting channel info structure...\n",
            "Could not determine channel type of the following channels, they will be set as EEG:\n",
            "Fz, FCz, Cz, CPz, Pz, C1, C3, C5, C2, C4, C6, EOG1, EOG2, EOG3, EMGg, EMGd, F4, FC2, FC4, FC6, CP2, CP4, CP6, P4, F3, FC1, FC3, FC5, CP1, CP3, CP5, P3\n",
            "Creating raw.info structure...\n",
            "Reading 0 ... 230431  =      0.000 ...   450.061 secs...\n",
            "Time-domain plots created and saved for A4_R3_onlineT.gdf in /content/drive/MyDrive/BCI_Database/gdf/Time_Domain_Visualization_Images/\n",
            "Extracting EDF parameters from /content/drive/MyDrive/BCI_Database/gdf/B66_R3_onlineT.gdf...\n",
            "GDF file detected\n",
            "Setting channel info structure...\n",
            "Could not determine channel type of the following channels, they will be set as EEG:\n",
            "Fz, FCz, Cz, CPz, Pz, C1, C3, C5, C2, C4, C6, EOG1, EOG2, EOG3, EMGg, EMGd, F4, FC2, FC4, FC6, CP2, CP4, CP6, P4, F3, FC1, FC3, FC5, CP1, CP3, CP5, P3\n",
            "Creating raw.info structure...\n",
            "Reading 0 ... 261599  =      0.000 ...   510.936 secs...\n",
            "Time-domain plots created and saved for B66_R3_onlineT.gdf in /content/drive/MyDrive/BCI_Database/gdf/Time_Domain_Visualization_Images/\n",
            "Time-domain visualization complete for all .gdf files in the folder.\n"
          ]
        }
      ]
    }
  ]
}